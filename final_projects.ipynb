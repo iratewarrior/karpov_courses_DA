{
 "cells": [
  {
   "cell_type": "markdown",
   "metadata": {},
   "source": [
    "## Финальный проект: вариант 3\n",
    "\n",
    "Представьте, что вы работаете в крупном дейтинговом приложении.\n",
    "\n",
    "Помимо базовых функций, в приложении также имеется премиум-подписка, которая дает доступ к ряду важных дополнительных возможностей. Был проведен A/B тест, в рамках которого для новых пользователей из нескольких стран была изменена стоимость премиум-подписки* при покупке через две новые платежные системы. При этом стоимость пробного периода оставалась прежней.\n",
    "\n",
    "- Проверьте:\n",
    "\n",
    "Был ли эксперимент успешен в целом.\n",
    "Проанализируйте, имеет ли нововведение смысл среди каких-либо конкретных групп пользователей.\n",
    "Деньги за подписку списываются ежемесячно до тех пор, пока пользователь её не отменит.\n",
    "\n",
    "- Данные:\n",
    "\n",
    "Всего есть три группы: тестовая (test), контрольная 1 (control_1) и контрольная 2 (control_2). Для каждой из них:\n",
    "\n",
    "- #### users_*.csv – информация о пользователях:\n",
    "\n",
    "    - uid – идентификатор пользователя\n",
    "    - age – возраст\n",
    "    - attraction_coeff – коэффициент привлекательности (от 0 до 1000, \\frac{лайки}{просмотры}*1000 \n",
    "просмотры\n",
    "лайки\n",
    "​\t\n",
    " ∗1000)\n",
    "    - coins – число монеток (внутренняя валюта)\n",
    "    - country – страна  \n",
    "    - visit_days – в какие дни после регистрации пользователь посещал приложение (напр. в 1, затем в 7)\n",
    "    - gender – пол\n",
    "    - age_filter_start  – фильтр поиска, мин. значение \n",
    "    - age_filter_end  – фильтр поиска, макс. значение \n",
    "    - views_count – число полученных оценок \n",
    "    - was_premium – был ли когда-либо премиум (либо пробный период премиум-статуса, либо купленный за деньги)\n",
    "    - is_premium –  является ли премиум\n",
    "    - total_revenue – нормированная выручка\n",
    "\n",
    "- #### transactions_*.csv – информация о платежах пользователей:\n",
    "\n",
    "    - uid – идентификатор пользователя\n",
    "    - country – страна\n",
    "    - joined_at – дата и время регистрации\n",
    "    - paid_at – дата и время покупки\n",
    "    - revenue – нормированная выручка\n",
    "    - payment_id – идентификатор платежа\n",
    "    - from_page – откуда пользователь перешел на страницу оплаты\n",
    "    - product_type – тип продукта (trial_premium – пробная премиум-подписка, premium_no_trial – премиум-подписка без пробной, coins – подписка за внутреннюю валюту, other_type – другое)\n",
    "\n",
    " - #### Файлы:\n",
    "\n",
    "- users_test – информация о пользователях в тестовой группе\n",
    "- users_control_1 – информация о пользователях в первой контрольной группе\n",
    "- users_control_2 – информация о пользователях во второй контрольной группе \n",
    "- transactions_test – информация о платежах пользователей в тестовой группе\n",
    "- transactions_control_1 – информация о платежах пользователей в первой контрольной группе\n",
    "- transactions_control_2 – информация о платежах пользователей во второй контрольной группе \n"
   ]
  },
  {
   "cell_type": "code",
   "execution_count": 1,
   "metadata": {},
   "outputs": [],
   "source": [
    "import pandas as pd\n",
    "import numpy as np\n",
    "import scipy.stats as stats\n",
    "import matplotlib.pyplot as plt\n",
    "import matplotlib.ticker as ticker\n",
    "from tqdm.auto import tqdm\n",
    "from scipy.stats import norm\n",
    "import seaborn as sns\n",
    "import warnings\n",
    "from datetime import datetime\n",
    "\n",
    "%matplotlib inline\n",
    "warnings.filterwarnings('ignore')"
   ]
  },
  {
   "cell_type": "code",
   "execution_count": 2,
   "metadata": {},
   "outputs": [],
   "source": [
    "dataset_urls = ['https://stepik.org/media/attachments/lesson/409320/users_test.csv',\n",
    "         'https://stepik.org/media/attachments/lesson/409320/users_control_1.csv',\n",
    "         'https://stepik.org/media/attachments/lesson/409320/users_control_2.csv',\n",
    "         'https://stepik.org/media/attachments/lesson/409320/transactions_test.csv',\n",
    "         'https://stepik.org/media/attachments/lesson/409320/transactions_control_1.csv',\n",
    "         'https://stepik.org/media/attachments/lesson/409320/transactions_control_2.csv']"
   ]
  },
  {
   "cell_type": "markdown",
   "metadata": {},
   "source": [
    "#### Определим функции :"
   ]
  },
  {
   "cell_type": "markdown",
   "metadata": {},
   "source": [
    "#### A/A test"
   ]
  },
  {
   "cell_type": "code",
   "execution_count": 3,
   "metadata": {},
   "outputs": [],
   "source": [
    "def a_a_test(subset1,\n",
    "             subset2,\n",
    "             n=100000,\n",
    "             simulations=1000,\n",
    "             n_s=300,\n",
    "             estimator=stats.ttest_ind, \n",
    "             f='total_revenue'):\n",
    "    res = []\n",
    "    if f == 'total_revenue':\n",
    "        for i in tqdm(range(simulations)):\n",
    "            s1 = subset1.total_revenue.sample(n_s, replace = False).values\n",
    "            s2 = subset2.total_revenue.sample(n_s, replace = False).values\n",
    "            res.append(estimator(s1, s2, equal_var = False)[1])                 \n",
    "    else:\n",
    "        for i in tqdm(range(simulations)):\n",
    "            s1 = subset1.revenue.sample(n_s, replace = False).values\n",
    "            s2 = subset2.revenue.sample(n_s, replace = False).values\n",
    "            res.append(estimator(s1, s2, equal_var = False)[1]) \n",
    "            \n",
    "    sns.set(rc={'figure.figsize': (15,7)})\n",
    "    plt.hist(res, bins=50)\n",
    "    plt.style.use('ggplot')\n",
    "    plt.show()\n",
    "\n",
    "    return(f'Проверяем, что количество ложноположительных случаев не превышает альфа (< 0.05): p-value\\\n",
    "      {sum(np.array(res) < 0.05) / simulations}')"
   ]
  },
  {
   "cell_type": "markdown",
   "metadata": {},
   "source": [
    "#### Bootstrap"
   ]
  },
  {
   "cell_type": "code",
   "execution_count": 4,
   "metadata": {},
   "outputs": [],
   "source": [
    "def get_bootstrap(\n",
    "    subset1, \n",
    "    subset2,\n",
    "    boot_it=2000, \n",
    "    statistic=np.mean, \n",
    "    bootstrap_conf_level = 0.95,\n",
    "    caption='boot_data', y = False\n",
    "):\n",
    "    boot_len = max(len(subset1), len(subset2))\n",
    "    boot_data = []\n",
    "    for i in range(boot_it):\n",
    "        samples_1 = subset1.sample(boot_len, replace = True ).values\n",
    "        samples_2 = subset2.sample(boot_len, replace = True).values\n",
    "        boot_data.append(statistic(samples_1 - samples_2)) \n",
    "        \n",
    "    pd_boot_data = pd.DataFrame(boot_data)\n",
    "        \n",
    "    left_quant = (1 - bootstrap_conf_level)/2\n",
    "    right_quant = 1 - (1 - bootstrap_conf_level)/2\n",
    "    quants = pd_boot_data.quantile([left_quant, right_quant])\n",
    "        \n",
    "    p_1 = norm.cdf(x = 0, loc = np.mean(boot_data), scale = np.std(boot_data))\n",
    "    p_2 = norm.cdf(x = 0, loc = -np.mean(boot_data), scale = np.std(boot_data))\n",
    "    p_value = min(p_1, p_2) * 2\n",
    "        \n",
    "    # Визуализация\n",
    "    if y:\n",
    "        _, _, bars = plt.hist(pd_boot_data[0], bins = 50)\n",
    "        for bar in bars:\n",
    "            if abs(bar.get_x()) <= quants.iloc[0][0] or abs(bar.get_x()) >= quants.iloc[1][0]:\n",
    "                bar.set_facecolor('red')\n",
    "            else: \n",
    "                bar.set_facecolor('grey')\n",
    "                bar.set_edgecolor('black')\n",
    "\n",
    "        sns.set(rc={'figure.figsize': (15,7)})\n",
    "        plt.style.use('ggplot')\n",
    "        plt.vlines(quants,ymin=0,ymax=50,linestyle='--')\n",
    "        plt.xlabel('boot_data')\n",
    "        plt.ylabel('frequency')\n",
    "        plt.title(f'Histogram of {caption}')\n",
    "        plt.show()\n",
    "       \n",
    "    return {\"boot_data\": boot_data, \n",
    "            \"quants\": quants, \n",
    "            \"p_value\": p_value}"
   ]
  },
  {
   "cell_type": "markdown",
   "metadata": {},
   "source": [
    "#### Загрузим данные и проведем разведочный анализ датасетов"
   ]
  },
  {
   "cell_type": "code",
   "execution_count": 5,
   "metadata": {},
   "outputs": [],
   "source": [
    "dataset_names = [pd.read_csv(i,sep=';') for i in dataset_urls]"
   ]
  },
  {
   "cell_type": "code",
   "execution_count": 6,
   "metadata": {},
   "outputs": [],
   "source": [
    "(users_test, users_control_1, users_control_2, \n",
    "transactions_test, transactions_control_1, transactions_control_2) = dataset_names"
   ]
  },
  {
   "cell_type": "code",
   "execution_count": 7,
   "metadata": {},
   "outputs": [],
   "source": [
    "# создадим список категорий \n",
    "product_types = list(transactions_test.product_type.unique())\n",
    "country_list = list(transactions_test.country.unique())"
   ]
  },
  {
   "cell_type": "code",
   "execution_count": 8,
   "metadata": {},
   "outputs": [
    {
     "name": "stdout",
     "output_type": "stream",
     "text": [
      "uid                    0\n",
      "age                    0\n",
      "attraction_coeff       0\n",
      "coins               4259\n",
      "country                0\n",
      "visit_days          1330\n",
      "gender                 0\n",
      "age_filter_start       0\n",
      "age_filter_end         0\n",
      "views_count            0\n",
      "was_premium         3900\n",
      "is_premium          4151\n",
      "total_revenue          0\n",
      "dtype: int64\n",
      "uid                    0\n",
      "age                    0\n",
      "attraction_coeff       0\n",
      "coins               4280\n",
      "country                0\n",
      "visit_days          1324\n",
      "gender                 0\n",
      "age_filter_start       0\n",
      "age_filter_end         0\n",
      "views_count            0\n",
      "was_premium         3904\n",
      "is_premium          4148\n",
      "total_revenue          0\n",
      "dtype: int64\n",
      "uid                    0\n",
      "age                    0\n",
      "attraction_coeff       0\n",
      "coins               4203\n",
      "country                0\n",
      "visit_days          1364\n",
      "gender                 0\n",
      "age_filter_start       0\n",
      "age_filter_end         0\n",
      "views_count            0\n",
      "was_premium         3853\n",
      "is_premium          4073\n",
      "total_revenue          0\n",
      "dtype: int64\n",
      "uid             0\n",
      "country         0\n",
      "joined_at       0\n",
      "paid_at         0\n",
      "revenue         0\n",
      "payment_id      0\n",
      "from_page       0\n",
      "product_type    0\n",
      "dtype: int64\n",
      "uid             630\n",
      "country         630\n",
      "joined_at         0\n",
      "paid_at           0\n",
      "revenue         630\n",
      "payment_id      630\n",
      "from_page       630\n",
      "product_type    630\n",
      "dtype: int64\n",
      "uid             0\n",
      "country         0\n",
      "joined_at       0\n",
      "paid_at         0\n",
      "revenue         0\n",
      "payment_id      0\n",
      "from_page       0\n",
      "product_type    0\n",
      "dtype: int64\n"
     ]
    }
   ],
   "source": [
    "# посмотрим на данные \n",
    "for i in dataset_names:\n",
    "    print(i.isna().sum())"
   ]
  },
  {
   "cell_type": "code",
   "execution_count": 9,
   "metadata": {},
   "outputs": [],
   "source": [
    "# Меняем NaN значения на нули в группе 'users'\n",
    "for i in dataset_names[0:3]:\n",
    "    i.fillna(0,inplace=True)"
   ]
  },
  {
   "cell_type": "code",
   "execution_count": 10,
   "metadata": {},
   "outputs": [],
   "source": [
    "# Убирем пустые uid и  дропнем дубликаты в 'transaction'\n",
    "transactions_control_1.dropna(inplace=True)\n",
    "transactions_control_1.drop_duplicates(inplace=True)"
   ]
  },
  {
   "cell_type": "code",
   "execution_count": 11,
   "metadata": {},
   "outputs": [
    {
     "name": "stdout",
     "output_type": "stream",
     "text": [
      "uid                   int64\n",
      "age                   int64\n",
      "attraction_coeff      int64\n",
      "coins               float64\n",
      "country              object\n",
      "visit_days           object\n",
      "gender                int64\n",
      "age_filter_start      int64\n",
      "age_filter_end        int64\n",
      "views_count           int64\n",
      "was_premium         float64\n",
      "is_premium          float64\n",
      "total_revenue         int64\n",
      "dtype: object\n",
      "uid                   int64\n",
      "age                   int64\n",
      "attraction_coeff      int64\n",
      "coins               float64\n",
      "country              object\n",
      "visit_days           object\n",
      "gender                int64\n",
      "age_filter_start      int64\n",
      "age_filter_end        int64\n",
      "views_count           int64\n",
      "was_premium         float64\n",
      "is_premium          float64\n",
      "total_revenue         int64\n",
      "dtype: object\n",
      "uid                   int64\n",
      "age                   int64\n",
      "attraction_coeff      int64\n",
      "coins               float64\n",
      "country              object\n",
      "visit_days           object\n",
      "gender                int64\n",
      "age_filter_start      int64\n",
      "age_filter_end        int64\n",
      "views_count           int64\n",
      "was_premium         float64\n",
      "is_premium          float64\n",
      "total_revenue         int64\n",
      "dtype: object\n",
      "uid              int64\n",
      "country         object\n",
      "joined_at       object\n",
      "paid_at         object\n",
      "revenue          int64\n",
      "payment_id       int64\n",
      "from_page       object\n",
      "product_type    object\n",
      "dtype: object\n",
      "uid             float64\n",
      "country          object\n",
      "joined_at        object\n",
      "paid_at          object\n",
      "revenue         float64\n",
      "payment_id      float64\n",
      "from_page        object\n",
      "product_type     object\n",
      "dtype: object\n",
      "uid              int64\n",
      "country         object\n",
      "joined_at       object\n",
      "paid_at         object\n",
      "revenue          int64\n",
      "payment_id       int64\n",
      "from_page       object\n",
      "product_type    object\n",
      "dtype: object\n"
     ]
    }
   ],
   "source": [
    "# посмотрим типы данных\n",
    "for i in dataset_names:\n",
    "    print(i.dtypes)"
   ]
  },
  {
   "cell_type": "code",
   "execution_count": 12,
   "metadata": {},
   "outputs": [],
   "source": [
    "# приведем типы\n",
    "transactions_control_1[['uid','revenue','payment_id']] = transactions_control_1[['uid','revenue','payment_id']]\\\n",
    "                                                                                .astype('int')"
   ]
  },
  {
   "cell_type": "code",
   "execution_count": null,
   "metadata": {},
   "outputs": [],
   "source": []
  },
  {
   "cell_type": "markdown",
   "metadata": {},
   "source": [
    "####   Посмотрим распределения и визуализируем данные..."
   ]
  },
  {
   "cell_type": "markdown",
   "metadata": {},
   "source": [
    "### Группа : **'users'**"
   ]
  },
  {
   "cell_type": "code",
   "execution_count": 13,
   "metadata": {},
   "outputs": [
    {
     "name": "stdout",
     "output_type": "stream",
     "text": [
      "count      4308.000000\n",
      "mean        534.080316\n",
      "std        4371.682632\n",
      "min           0.000000\n",
      "25%           0.000000\n",
      "50%           0.000000\n",
      "75%           0.000000\n",
      "max      129870.000000\n",
      "Name: total_revenue, dtype: float64\n",
      "------------------------\n",
      "count      4340.000000\n",
      "mean        594.761982\n",
      "std        7987.922925\n",
      "min           0.000000\n",
      "25%           0.000000\n",
      "50%           0.000000\n",
      "75%           0.000000\n",
      "max      486330.000000\n",
      "Name: total_revenue, dtype: float64\n",
      "------------------------\n",
      "count     4264.000000\n",
      "mean       450.384146\n",
      "std       2859.242228\n",
      "min          0.000000\n",
      "25%          0.000000\n",
      "50%          0.000000\n",
      "75%          0.000000\n",
      "max      81796.000000\n",
      "Name: total_revenue, dtype: float64\n",
      "------------------------\n"
     ]
    }
   ],
   "source": [
    "# и посмотрим статистику прибыли по датасетам users\n",
    "for dataset in (users_test,users_control_1,users_control_2):\n",
    "    print(f'{dataset.total_revenue.describe()}')\n",
    "    print('------------------------')"
   ]
  },
  {
   "cell_type": "markdown",
   "metadata": {},
   "source": [
    "- ***во второй группе максимальное значение вызывает интерес...***"
   ]
  },
  {
   "cell_type": "code",
   "execution_count": 14,
   "metadata": {},
   "outputs": [
    {
     "data": {
      "text/plain": [
       "1427    892333905\n",
       "Name: uid, dtype: int64"
      ]
     },
     "execution_count": 14,
     "metadata": {},
     "output_type": "execute_result"
    }
   ],
   "source": [
    "users_control_1.query('total_revenue >= 486330').uid"
   ]
  },
  {
   "cell_type": "markdown",
   "metadata": {},
   "source": [
    "- ***у данного пользователя есть \"подозрительные\" платежи (дубли, повторы и одновременные транзакции)***"
   ]
  },
  {
   "cell_type": "code",
   "execution_count": 15,
   "metadata": {},
   "outputs": [
    {
     "data": {
      "text/html": [
       "<div>\n",
       "<style scoped>\n",
       "    .dataframe tbody tr th:only-of-type {\n",
       "        vertical-align: middle;\n",
       "    }\n",
       "\n",
       "    .dataframe tbody tr th {\n",
       "        vertical-align: top;\n",
       "    }\n",
       "\n",
       "    .dataframe thead th {\n",
       "        text-align: right;\n",
       "    }\n",
       "</style>\n",
       "<table border=\"1\" class=\"dataframe\">\n",
       "  <thead>\n",
       "    <tr style=\"text-align: right;\">\n",
       "      <th></th>\n",
       "      <th>paid_at</th>\n",
       "      <th>product_type</th>\n",
       "      <th>revenue</th>\n",
       "    </tr>\n",
       "  </thead>\n",
       "  <tbody>\n",
       "    <tr>\n",
       "      <th>0</th>\n",
       "      <td>2017-10-16 01:42:00</td>\n",
       "      <td>other_type</td>\n",
       "      <td>3783</td>\n",
       "    </tr>\n",
       "    <tr>\n",
       "      <th>1</th>\n",
       "      <td>2017-10-16 01:44:00</td>\n",
       "      <td>other_type</td>\n",
       "      <td>3783</td>\n",
       "    </tr>\n",
       "    <tr>\n",
       "      <th>2</th>\n",
       "      <td>2017-10-16 01:57:00</td>\n",
       "      <td>other_type</td>\n",
       "      <td>3783</td>\n",
       "    </tr>\n",
       "    <tr>\n",
       "      <th>3</th>\n",
       "      <td>2017-10-16 01:58:00</td>\n",
       "      <td>other_type</td>\n",
       "      <td>3783</td>\n",
       "    </tr>\n",
       "    <tr>\n",
       "      <th>4</th>\n",
       "      <td>2017-10-16 02:08:00</td>\n",
       "      <td>coins</td>\n",
       "      <td>45396</td>\n",
       "    </tr>\n",
       "    <tr>\n",
       "      <th>5</th>\n",
       "      <td>2017-10-16 02:08:00</td>\n",
       "      <td>other_type</td>\n",
       "      <td>3783</td>\n",
       "    </tr>\n",
       "    <tr>\n",
       "      <th>6</th>\n",
       "      <td>2017-10-16 02:26:00</td>\n",
       "      <td>coins</td>\n",
       "      <td>31525</td>\n",
       "    </tr>\n",
       "    <tr>\n",
       "      <th>7</th>\n",
       "      <td>2017-10-16 02:52:00</td>\n",
       "      <td>coins</td>\n",
       "      <td>31525</td>\n",
       "    </tr>\n",
       "    <tr>\n",
       "      <th>8</th>\n",
       "      <td>2017-10-16 10:24:00</td>\n",
       "      <td>coins</td>\n",
       "      <td>31525</td>\n",
       "    </tr>\n",
       "    <tr>\n",
       "      <th>9</th>\n",
       "      <td>2017-10-16 13:10:00</td>\n",
       "      <td>premium_no_trial</td>\n",
       "      <td>63037</td>\n",
       "    </tr>\n",
       "    <tr>\n",
       "      <th>10</th>\n",
       "      <td>2017-10-16 18:42:00</td>\n",
       "      <td>coins</td>\n",
       "      <td>31525</td>\n",
       "    </tr>\n",
       "    <tr>\n",
       "      <th>11</th>\n",
       "      <td>2017-10-16 22:35:00</td>\n",
       "      <td>coins</td>\n",
       "      <td>31525</td>\n",
       "    </tr>\n",
       "    <tr>\n",
       "      <th>12</th>\n",
       "      <td>2017-10-16 22:39:00</td>\n",
       "      <td>coins</td>\n",
       "      <td>19773</td>\n",
       "    </tr>\n",
       "    <tr>\n",
       "      <th>13</th>\n",
       "      <td>2017-10-17 00:40:00</td>\n",
       "      <td>coins</td>\n",
       "      <td>31525</td>\n",
       "    </tr>\n",
       "    <tr>\n",
       "      <th>14</th>\n",
       "      <td>2017-10-17 02:23:00</td>\n",
       "      <td>coins</td>\n",
       "      <td>31525</td>\n",
       "    </tr>\n",
       "    <tr>\n",
       "      <th>15</th>\n",
       "      <td>2017-10-17 02:23:00</td>\n",
       "      <td>other_type</td>\n",
       "      <td>3783</td>\n",
       "    </tr>\n",
       "    <tr>\n",
       "      <th>16</th>\n",
       "      <td>2017-10-17 20:53:00</td>\n",
       "      <td>coins</td>\n",
       "      <td>31525</td>\n",
       "    </tr>\n",
       "  </tbody>\n",
       "</table>\n",
       "</div>"
      ],
      "text/plain": [
       "                paid_at      product_type  revenue\n",
       "0   2017-10-16 01:42:00        other_type     3783\n",
       "1   2017-10-16 01:44:00        other_type     3783\n",
       "2   2017-10-16 01:57:00        other_type     3783\n",
       "3   2017-10-16 01:58:00        other_type     3783\n",
       "4   2017-10-16 02:08:00             coins    45396\n",
       "5   2017-10-16 02:08:00        other_type     3783\n",
       "6   2017-10-16 02:26:00             coins    31525\n",
       "7   2017-10-16 02:52:00             coins    31525\n",
       "8   2017-10-16 10:24:00             coins    31525\n",
       "9   2017-10-16 13:10:00  premium_no_trial    63037\n",
       "10  2017-10-16 18:42:00             coins    31525\n",
       "11  2017-10-16 22:35:00             coins    31525\n",
       "12  2017-10-16 22:39:00             coins    19773\n",
       "13  2017-10-17 00:40:00             coins    31525\n",
       "14  2017-10-17 02:23:00             coins    31525\n",
       "15  2017-10-17 02:23:00        other_type     3783\n",
       "16  2017-10-17 20:53:00             coins    31525"
      ]
     },
     "execution_count": 15,
     "metadata": {},
     "output_type": "execute_result"
    }
   ],
   "source": [
    "\n",
    "transactions_control_1.query('uid == 892333905')\\\n",
    "                      .groupby(['paid_at','product_type'],as_index=False)\\\n",
    "                      .revenue.sum()            "
   ]
  },
  {
   "cell_type": "markdown",
   "metadata": {},
   "source": [
    "-***похоже на технические проблемы с логированием...*** "
   ]
  },
  {
   "cell_type": "code",
   "execution_count": null,
   "metadata": {},
   "outputs": [],
   "source": []
  },
  {
   "cell_type": "code",
   "execution_count": 116,
   "metadata": {},
   "outputs": [
    {
     "data": {
      "text/plain": [
       "<matplotlib.axes._subplots.AxesSubplot at 0x7f8c3552af98>"
      ]
     },
     "execution_count": 116,
     "metadata": {},
     "output_type": "execute_result"
    },
    {
     "data": {
      "image/png": "[encoded data removed]",
      "text/plain": [
       "<Figure size 576x576 with 3 Axes>"
      ]
     },
     "metadata": {},
     "output_type": "display_data"
    }
   ],
   "source": [
    "# Посмотрим на распределение 'платящих' пользователей по total_revenue в группе users\n",
    "sns.set(rc={'figure.figsize': (8,8)})\n",
    "fig, axes = plt.subplots(3, 1)\n",
    "\n",
    "users_test.query('total_revenue >0').total_revenue.hist(bins=30, ax=axes[0])\n",
    "users_control_1.query('total_revenue >0').total_revenue.hist(bins=30, ax=axes[1])\n",
    "users_control_2.query('total_revenue >0').total_revenue.hist(bins=30, ax=axes[2])\n"
   ]
  },
  {
   "cell_type": "code",
   "execution_count": 17,
   "metadata": {},
   "outputs": [
    {
     "name": "stdout",
     "output_type": "stream",
     "text": [
      "12;  6;  4;  \n",
      "------------\n"
     ]
    }
   ],
   "source": [
    "# Посмотрим на количество user'ов с total_revenue выше 30000:\n",
    "for i in (users_test,users_control_1,users_control_2):\n",
    "    print(i.query('total_revenue >= 30000').uid.count(), end=';  ')\n",
    "print()    \n",
    "print('-'*12)\n",
    "# "
   ]
  },
  {
   "cell_type": "code",
   "execution_count": 18,
   "metadata": {},
   "outputs": [],
   "source": [
    "# Количество таких пользоватеелей неезначитеельно - уберем outlier'ы\n",
    "users_t  = users_test.query('total_revenue < 30000')\n",
    "users_contr_1 = users_control_1.query('total_revenue < 30000')\n",
    "users_contr_2 = users_control_2.query('total_revenue < 30000')"
   ]
  },
  {
   "cell_type": "code",
   "execution_count": 19,
   "metadata": {},
   "outputs": [
    {
     "name": "stdout",
     "output_type": "stream",
     "text": [
      "count     4296.000000\n",
      "mean       361.930168\n",
      "std       2280.345371\n",
      "min          0.000000\n",
      "25%          0.000000\n",
      "50%          0.000000\n",
      "75%          0.000000\n",
      "max      28535.000000\n",
      "Name: total_revenue, dtype: float64\n",
      "------------------------\n",
      "count     4334.000000\n",
      "mean       411.854638\n",
      "std       2248.616478\n",
      "min          0.000000\n",
      "25%          0.000000\n",
      "50%          0.000000\n",
      "75%          0.000000\n",
      "max      29081.000000\n",
      "Name: total_revenue, dtype: float64\n",
      "------------------------\n",
      "count     4260.000000\n",
      "mean       398.596479\n",
      "std       2194.468833\n",
      "min          0.000000\n",
      "25%          0.000000\n",
      "50%          0.000000\n",
      "75%          0.000000\n",
      "max      28119.000000\n",
      "Name: total_revenue, dtype: float64\n",
      "------------------------\n"
     ]
    }
   ],
   "source": [
    "# проверим статистики повторно\n",
    "for dataset in (users_t,users_contr_1,users_contr_2):\n",
    "    print(dataset.total_revenue.describe())\n",
    "    print('------------------------')"
   ]
  },
  {
   "cell_type": "code",
   "execution_count": 114,
   "metadata": {},
   "outputs": [
    {
     "data": {
      "text/plain": [
       "<matplotlib.axes._subplots.AxesSubplot at 0x7f8c7432a6d8>"
      ]
     },
     "execution_count": 114,
     "metadata": {},
     "output_type": "execute_result"
    },
    {
     "data": {
      "image/png": "[encoded data removed]",
      "text/plain": [
       "<Figure size 576x576 with 3 Axes>"
      ]
     },
     "metadata": {},
     "output_type": "display_data"
    }
   ],
   "source": [
    "# посмотрим теперь:\n",
    "sns.set(rc={'figure.figsize': (8,8)})\n",
    "fig, axes = plt.subplots(3, 1)\n",
    "users_t.query('total_revenue >0').total_revenue.hist(bins=20, ax=axes[0])\n",
    "users_contr_1.query('total_revenue >0').total_revenue.hist(bins=20, ax=axes[1])\n",
    "users_contr_2.query('total_revenue >0').total_revenue.hist(bins=20, ax=axes[2])"
   ]
  },
  {
   "cell_type": "code",
   "execution_count": 21,
   "metadata": {},
   "outputs": [
    {
     "data": {
      "image/png": "[encoded data removed]",
      "text/plain": [
       "<Figure size 1296x576 with 3 Axes>"
      ]
     },
     "metadata": {},
     "output_type": "display_data"
    }
   ],
   "source": [
    "sns.set(rc={'figure.figsize': (18,8)})\n",
    "fig, axes = plt.subplots(1, 3)\n",
    "\n",
    "ax = sns.boxplot(data=users_t.query('total_revenue >0'),y='total_revenue',ax=axes[0])\n",
    "ax.set(xlabel='test')\n",
    "ax = sns.boxplot(data=users_contr_1.query('total_revenue >0'),y='total_revenue',ax=axes[1]) \n",
    "ax.set(xlabel='control_1')\n",
    "ax = sns.boxplot(data=users_contr_2.query('total_revenue >0'),y='total_revenue',ax=axes[2])  \n",
    "ax.set(xlabel='control_2')\n",
    "plt.show()"
   ]
  },
  {
   "cell_type": "code",
   "execution_count": 22,
   "metadata": {},
   "outputs": [
    {
     "data": {
      "application/vnd.jupyter.widget-view+json": {
       "model_id": "cbf6b88c561c4d619189fe05e271cfd5",
       "version_major": 2,
       "version_minor": 0
      },
      "text/plain": [
       "HBox(children=(FloatProgress(value=0.0, max=1000.0), HTML(value='')))"
      ]
     },
     "metadata": {},
     "output_type": "display_data"
    },
    {
     "name": "stdout",
     "output_type": "stream",
     "text": [
      "\n"
     ]
    },
    {
     "data": {
      "image/png": "[encoded data removed]",
      "text/plain": [
       "<Figure size 1080x504 with 1 Axes>"
      ]
     },
     "metadata": {},
     "output_type": "display_data"
    },
    {
     "name": "stdout",
     "output_type": "stream",
     "text": [
      "Проверяем, что количество ложноположительных случаев не превышает альфа (< 0.05): p-value      0.046\n",
      "------------------------------------------------------------------------------------------\n",
      "Тест сходится\n"
     ]
    }
   ],
   "source": [
    "# Проведем А/А тест: сравним контрольные группы\n",
    "AA_test = a_a_test(users_contr_1,users_contr_2,n_s=500)\n",
    "print(AA_test)\n",
    "print('-'*90)\n",
    "print('Тест сходится' if  float(AA_test.split()[-1])<0.05 else 'Тест не сходится')"
   ]
  },
  {
   "cell_type": "code",
   "execution_count": null,
   "metadata": {},
   "outputs": [],
   "source": []
  },
  {
   "cell_type": "markdown",
   "metadata": {},
   "source": [
    "### Группа : **'transactions'**"
   ]
  },
  {
   "cell_type": "code",
   "execution_count": 23,
   "metadata": {},
   "outputs": [
    {
     "name": "stdout",
     "output_type": "stream",
     "text": [
      "count       273.000000\n",
      "mean       8589.380952\n",
      "std       11127.479971\n",
      "min         533.000000\n",
      "25%        2743.000000\n",
      "50%        6305.000000\n",
      "75%       12597.000000\n",
      "max      113477.000000\n",
      "Name: revenue, dtype: float64\n",
      "------------------------\n",
      "count      356.000000\n",
      "mean      7007.876404\n",
      "std       7985.995094\n",
      "min         26.000000\n",
      "25%       2804.750000\n",
      "50%       6292.000000\n",
      "75%       7312.500000\n",
      "max      63037.000000\n",
      "Name: revenue, dtype: float64\n",
      "------------------------\n",
      "count      328.000000\n",
      "mean      5854.993902\n",
      "std       6582.242539\n",
      "min        481.000000\n",
      "25%       2323.750000\n",
      "50%       4706.000000\n",
      "75%       6314.750000\n",
      "max      81796.000000\n",
      "Name: revenue, dtype: float64\n",
      "------------------------\n"
     ]
    }
   ],
   "source": [
    "for dataset in (transactions_test,transactions_control_1,transactions_control_2):\n",
    "    print(dataset.revenue.describe())\n",
    "    print('------------------------')"
   ]
  },
  {
   "cell_type": "code",
   "execution_count": 117,
   "metadata": {},
   "outputs": [
    {
     "data": {
      "text/plain": [
       "<matplotlib.axes._subplots.AxesSubplot at 0x7f8c5de57e10>"
      ]
     },
     "execution_count": 117,
     "metadata": {},
     "output_type": "execute_result"
    },
    {
     "data": {
      "image/png": "[encoded data removed]",
      "text/plain": [
       "<Figure size 576x576 with 3 Axes>"
      ]
     },
     "metadata": {},
     "output_type": "display_data"
    }
   ],
   "source": [
    "sns.set(rc={'figure.figsize': (8,8)})\n",
    "fig, axes = plt.subplots(3, 1)\n",
    "\n",
    "transactions_test.revenue.hist(bins=20, ax=axes[0])\n",
    "transactions_control_1.revenue.hist(bins=20, ax=axes[1])\n",
    "transactions_control_2.revenue.hist(bins=20, ax=axes[2])\n"
   ]
  },
  {
   "cell_type": "markdown",
   "metadata": {},
   "source": [
    "- ***Графики распределений скошенны вправо - похожая картина с outlier'ами*** "
   ]
  },
  {
   "cell_type": "code",
   "execution_count": 25,
   "metadata": {},
   "outputs": [
    {
     "data": {
      "text/plain": [
       "[Text(0.5, 0, 'control_2')]"
      ]
     },
     "execution_count": 25,
     "metadata": {},
     "output_type": "execute_result"
    },
    {
     "data": {
      "image/png": "[encoded data removed]",
      "text/plain": [
       "<Figure size 1296x576 with 3 Axes>"
      ]
     },
     "metadata": {},
     "output_type": "display_data"
    }
   ],
   "source": [
    "sns.set(rc={'figure.figsize': (18,8)})\n",
    "fig, axes = plt.subplots(1, 3)\n",
    "\n",
    "ax = sns.boxplot(data=transactions_test,y='revenue',ax=axes[0])\n",
    "ax.set(xlabel='test')\n",
    "ax = sns.boxplot(data=transactions_control_1,y='revenue',ax=axes[1]) \n",
    "ax.set(xlabel='control_1')\n",
    "ax = sns.boxplot(data=transactions_control_2,y='revenue',ax=axes[2])  \n",
    "ax.set(xlabel='control_2')"
   ]
  },
  {
   "cell_type": "markdown",
   "metadata": {},
   "source": [
    "- **похоже есть проблеммы с системой сплиттирования...**"
   ]
  },
  {
   "cell_type": "code",
   "execution_count": 26,
   "metadata": {},
   "outputs": [
    {
     "data": {
      "application/vnd.jupyter.widget-view+json": {
       "model_id": "07831dc11ef84f9386f31f78140a210c",
       "version_major": 2,
       "version_minor": 0
      },
      "text/plain": [
       "HBox(children=(FloatProgress(value=0.0, max=1000.0), HTML(value='')))"
      ]
     },
     "metadata": {},
     "output_type": "display_data"
    },
    {
     "name": "stdout",
     "output_type": "stream",
     "text": [
      "\n"
     ]
    },
    {
     "data": {
      "image/png": "[encoded data removed]",
      "text/plain": [
       "<Figure size 1080x504 with 1 Axes>"
      ]
     },
     "metadata": {},
     "output_type": "display_data"
    },
    {
     "name": "stdout",
     "output_type": "stream",
     "text": [
      "Проверяем, что количество ложноположительных случаев не превышает альфа (< 0.05): p-value      0.295\n",
      "------------------------------------------------------------------------------------------\n",
      "Тест не сходится\n"
     ]
    }
   ],
   "source": [
    "# Проверим сплит А/А тестом\n",
    "AA_test = a_a_test(transactions_control_1,transactions_control_2,n_s=200,f='revenue')\n",
    "print(AA_test)\n",
    "print('-'*90)\n",
    "print('Тест сходится' if  float(AA_test.split()[-1])<0.05 else 'Тест не сходится')"
   ]
  },
  {
   "cell_type": "code",
   "execution_count": 27,
   "metadata": {},
   "outputs": [],
   "source": [
    "# убираем \"выбросы\"\n",
    "transactions_contr_1 = transactions_control_1.query('0<revenue<30000')\n",
    "transactions_contr_2 = transactions_control_2.query('0<revenue<30000')\n",
    "transactions_t = transactions_test.query('0<revenue<30000')"
   ]
  },
  {
   "cell_type": "code",
   "execution_count": 118,
   "metadata": {},
   "outputs": [
    {
     "data": {
      "text/plain": [
       "<matplotlib.axes._subplots.AxesSubplot at 0x7f8c5dc79668>"
      ]
     },
     "execution_count": 118,
     "metadata": {},
     "output_type": "execute_result"
    },
    {
     "data": {
      "image/png": "[encoded data removed]",
      "text/plain": [
       "<Figure size 576x576 with 3 Axes>"
      ]
     },
     "metadata": {},
     "output_type": "display_data"
    }
   ],
   "source": [
    "sns.set(rc={'figure.figsize': (8,8)})\n",
    "fig, axes = plt.subplots(3, 1)\n",
    "\n",
    "transactions_t.revenue.hist(bins=20, ax=axes[0])\n",
    "transactions_contr_1.revenue.hist(bins=20, ax=axes[1])\n",
    "transactions_contr_2.revenue.hist(bins=20, ax=axes[2])\n"
   ]
  },
  {
   "cell_type": "code",
   "execution_count": 29,
   "metadata": {},
   "outputs": [
    {
     "name": "stdout",
     "output_type": "stream",
     "text": [
      "count      263.000000\n",
      "mean      7051.140684\n",
      "std       4852.121283\n",
      "min        533.000000\n",
      "25%       2736.500000\n",
      "50%       6305.000000\n",
      "75%      12597.000000\n",
      "max      19500.000000\n",
      "Name: revenue, dtype: float64\n",
      "--------------------------------/\n",
      "count      342.000000\n",
      "mean      5684.154971\n",
      "std       3834.973886\n",
      "min         26.000000\n",
      "25%       2730.000000\n",
      "50%       5551.000000\n",
      "75%       6418.750000\n",
      "max      19773.000000\n",
      "Name: revenue, dtype: float64\n",
      "--------------------------------/\n",
      "count      326.000000\n",
      "mean      5446.641104\n",
      "std       3952.173861\n",
      "min        481.000000\n",
      "25%       2317.250000\n",
      "50%       4686.500000\n",
      "75%       6305.000000\n",
      "max      19513.000000\n",
      "Name: revenue, dtype: float64\n",
      "--------------------------------/\n"
     ]
    }
   ],
   "source": [
    "for dataset in (transactions_t,transactions_contr_1,transactions_contr_2):\n",
    "    print(dataset.revenue.describe())\n",
    "    print('--------------------------------/')\n",
    "    "
   ]
  },
  {
   "cell_type": "code",
   "execution_count": 30,
   "metadata": {},
   "outputs": [
    {
     "data": {
      "text/plain": [
       "[Text(0.5, 0, 'control_2')]"
      ]
     },
     "execution_count": 30,
     "metadata": {},
     "output_type": "execute_result"
    },
    {
     "data": {
      "image/png": "[encoded data removed]",
      "text/plain": [
       "<Figure size 1296x576 with 3 Axes>"
      ]
     },
     "metadata": {},
     "output_type": "display_data"
    }
   ],
   "source": [
    "sns.set(rc={'figure.figsize': (18,8)})\n",
    "fig, axes = plt.subplots(1, 3)\n",
    "\n",
    "ax = sns.boxplot(data=transactions_t,y='revenue',ax=axes[0])\n",
    "ax.set(xlabel='test')\n",
    "ax = sns.boxplot(data=transactions_contr_1,y='revenue',ax=axes[1]) \n",
    "ax.set(xlabel='control_1')\n",
    "ax = sns.boxplot(data=transactions_contr_2,y='revenue',ax=axes[2])  \n",
    "ax.set(xlabel='control_2')"
   ]
  },
  {
   "cell_type": "code",
   "execution_count": 31,
   "metadata": {},
   "outputs": [
    {
     "data": {
      "application/vnd.jupyter.widget-view+json": {
       "model_id": "61817459a85b48f7bd21a0816edb69bf",
       "version_major": 2,
       "version_minor": 0
      },
      "text/plain": [
       "HBox(children=(FloatProgress(value=0.0, max=1000.0), HTML(value='')))"
      ]
     },
     "metadata": {},
     "output_type": "display_data"
    },
    {
     "name": "stdout",
     "output_type": "stream",
     "text": [
      "\n"
     ]
    },
    {
     "data": {
      "image/png": "[encoded data removed]",
      "text/plain": [
       "<Figure size 1080x504 with 1 Axes>"
      ]
     },
     "metadata": {},
     "output_type": "display_data"
    },
    {
     "name": "stdout",
     "output_type": "stream",
     "text": [
      "Проверяем, что количество ложноположительных случаев не превышает альфа (< 0.05): p-value      0.04\n",
      "------------------------------------------------------------------------------------------\n",
      "Тест сходится\n"
     ]
    }
   ],
   "source": [
    "# Проверим сплит А/А тестом\n",
    "AA_test = a_a_test(transactions_contr_1,transactions_contr_2,n_s=100,f='revenue')\n",
    "print(AA_test)\n",
    "print('-'*90)\n",
    "print('Тест сходится' if  float(AA_test.split()[-1])<0.05 else 'Тест не сходится')"
   ]
  },
  {
   "cell_type": "code",
   "execution_count": null,
   "metadata": {},
   "outputs": [],
   "source": []
  },
  {
   "cell_type": "markdown",
   "metadata": {},
   "source": [
    "##### Объединим данные в три датасета и прорверим был ли эксперимент успешен в целом. И имеет ли нововведение смысл среди каких-либо конкретных групп пользователей."
   ]
  },
  {
   "cell_type": "code",
   "execution_count": 32,
   "metadata": {},
   "outputs": [],
   "source": [
    "trans_control_1 = transactions_contr_1.groupby('uid',as_index=False)\\\n",
    "                                               .agg({'paid_at': 'count','revenue': 'sum'})\\\n",
    "                                               .rename(columns={'paid_at': 'number_purchase'})\n",
    "trans_control_2 = transactions_contr_2.groupby('uid',as_index=False)\\\n",
    "                                               .agg({'paid_at': 'count','revenue': 'sum'})\\\n",
    "                                               .rename(columns={'paid_at': 'number_purchase'})\n",
    "trans_test      = transactions_t.groupby('uid',as_index=False)\\\n",
    "                                               .agg({'paid_at': 'count','revenue': 'sum'})\\\n",
    "                                               .rename(columns={'paid_at': 'number_purchase'})"
   ]
  },
  {
   "cell_type": "code",
   "execution_count": 33,
   "metadata": {},
   "outputs": [],
   "source": [
    "union_test  = users_test[['uid', 'age', 'country', 'visit_days', 'gender', 'total_revenue']]\\\n",
    "                             .merge(trans_test ,on='uid',how='left').fillna(0)\n",
    "\n",
    "union_control_1 = users_control_1[['uid', 'age', 'country', 'visit_days', 'gender', 'total_revenue']]\\\n",
    "                             .merge(trans_control_1 ,on='uid',how='left').fillna(0)\n",
    "\n",
    "union_control_2 = users_control_2[['uid', 'age', 'country', 'visit_days', 'gender', 'total_revenue']]\\\n",
    "                             .merge(trans_control_2, on='uid' ,how='left').fillna(0)"
   ]
  },
  {
   "cell_type": "code",
   "execution_count": null,
   "metadata": {},
   "outputs": [],
   "source": []
  },
  {
   "cell_type": "markdown",
   "metadata": {},
   "source": [
    "##### сравним total_revenue пользователей и sum revenue из транзакций"
   ]
  },
  {
   "cell_type": "code",
   "execution_count": 34,
   "metadata": {},
   "outputs": [
    {
     "name": "stdout",
     "output_type": "stream",
     "text": [
      "Int64Index([], dtype='int64')\n",
      "Int64Index([510], dtype='int64')\n",
      "Int64Index([], dtype='int64')\n"
     ]
    }
   ],
   "source": [
    "for i in (union_test,union_control_1,union_control_2):\n",
    "    print(i.query('total_revenue < revenue ').index)"
   ]
  },
  {
   "cell_type": "code",
   "execution_count": 35,
   "metadata": {},
   "outputs": [
    {
     "data": {
      "text/html": [
       "<div>\n",
       "<style scoped>\n",
       "    .dataframe tbody tr th:only-of-type {\n",
       "        vertical-align: middle;\n",
       "    }\n",
       "\n",
       "    .dataframe tbody tr th {\n",
       "        vertical-align: top;\n",
       "    }\n",
       "\n",
       "    .dataframe thead th {\n",
       "        text-align: right;\n",
       "    }\n",
       "</style>\n",
       "<table border=\"1\" class=\"dataframe\">\n",
       "  <thead>\n",
       "    <tr style=\"text-align: right;\">\n",
       "      <th></th>\n",
       "      <th>uid</th>\n",
       "      <th>age</th>\n",
       "      <th>country</th>\n",
       "      <th>visit_days</th>\n",
       "      <th>gender</th>\n",
       "      <th>total_revenue</th>\n",
       "      <th>number_purchase</th>\n",
       "      <th>revenue</th>\n",
       "    </tr>\n",
       "  </thead>\n",
       "  <tbody>\n",
       "    <tr>\n",
       "      <th>510</th>\n",
       "      <td>960936960</td>\n",
       "      <td>30</td>\n",
       "      <td>Russian Federation</td>\n",
       "      <td>1,2,3,4,7,8,9,10,11,14,15,16,17,18,21,22,23,24...</td>\n",
       "      <td>1</td>\n",
       "      <td>26</td>\n",
       "      <td>3</td>\n",
       "      <td>806</td>\n",
       "    </tr>\n",
       "  </tbody>\n",
       "</table>\n",
       "</div>"
      ],
      "text/plain": [
       "           uid age             country  \\\n",
       "510  960936960  30  Russian Federation   \n",
       "\n",
       "                                            visit_days gender total_revenue  \\\n",
       "510  1,2,3,4,7,8,9,10,11,14,15,16,17,18,21,22,23,24...      1            26   \n",
       "\n",
       "    number_purchase revenue  \n",
       "510               3     806  "
      ]
     },
     "execution_count": 35,
     "metadata": {},
     "output_type": "execute_result"
    }
   ],
   "source": [
    "union_control_1.loc[510,:].to_frame().T # это же наш соотечественник!"
   ]
  },
  {
   "cell_type": "code",
   "execution_count": 36,
   "metadata": {},
   "outputs": [
    {
     "data": {
      "text/html": [
       "<div>\n",
       "<style scoped>\n",
       "    .dataframe tbody tr th:only-of-type {\n",
       "        vertical-align: middle;\n",
       "    }\n",
       "\n",
       "    .dataframe tbody tr th {\n",
       "        vertical-align: top;\n",
       "    }\n",
       "\n",
       "    .dataframe thead th {\n",
       "        text-align: right;\n",
       "    }\n",
       "</style>\n",
       "<table border=\"1\" class=\"dataframe\">\n",
       "  <thead>\n",
       "    <tr style=\"text-align: right;\">\n",
       "      <th></th>\n",
       "      <th>uid</th>\n",
       "      <th>age</th>\n",
       "      <th>country</th>\n",
       "      <th>visit_days</th>\n",
       "      <th>gender</th>\n",
       "      <th>total_revenue</th>\n",
       "      <th>number_purchase</th>\n",
       "      <th>revenue</th>\n",
       "    </tr>\n",
       "  </thead>\n",
       "  <tbody>\n",
       "    <tr>\n",
       "      <th>510</th>\n",
       "      <td>960936960</td>\n",
       "      <td>30</td>\n",
       "      <td>Russian Federation</td>\n",
       "      <td>1,2,3,4,7,8,9,10,11,14,15,16,17,18,21,22,23,24...</td>\n",
       "      <td>1</td>\n",
       "      <td>806</td>\n",
       "      <td>3</td>\n",
       "      <td>806</td>\n",
       "    </tr>\n",
       "  </tbody>\n",
       "</table>\n",
       "</div>"
      ],
      "text/plain": [
       "           uid age             country  \\\n",
       "510  960936960  30  Russian Federation   \n",
       "\n",
       "                                            visit_days gender total_revenue  \\\n",
       "510  1,2,3,4,7,8,9,10,11,14,15,16,17,18,21,22,23,24...      1           806   \n",
       "\n",
       "    number_purchase revenue  \n",
       "510               3     806  "
      ]
     },
     "execution_count": 36,
     "metadata": {},
     "output_type": "execute_result"
    }
   ],
   "source": [
    "# добавим соотечественннику деньжат соответственно транзакциям :))\n",
    "union_control_1.loc[510,'total_revenue'] += (\n",
    "    union_control_1.loc[510,:].revenue - union_control_1.loc[510,:].total_revenue)\n",
    "union_control_1.loc[510,:].to_frame().T"
   ]
  },
  {
   "cell_type": "code",
   "execution_count": null,
   "metadata": {},
   "outputs": [],
   "source": []
  },
  {
   "cell_type": "markdown",
   "metadata": {},
   "source": [
    "##### Проверим  стат.значимые различия пользователей в контрольных группах: "
   ]
  },
  {
   "cell_type": "code",
   "execution_count": 37,
   "metadata": {},
   "outputs": [
    {
     "name": "stdout",
     "output_type": "stream",
     "text": [
      "count     4308.000000\n",
      "mean       430.466574\n",
      "std       2804.156327\n",
      "min          0.000000\n",
      "25%          0.000000\n",
      "50%          0.000000\n",
      "75%          0.000000\n",
      "max      64298.000000\n",
      "Name: revenue, dtype: float64\n",
      "count     4340.000000\n",
      "mean       447.921889\n",
      "std       2692.232189\n",
      "min          0.000000\n",
      "25%          0.000000\n",
      "50%          0.000000\n",
      "75%          0.000000\n",
      "max      63024.000000\n",
      "Name: revenue, dtype: float64\n",
      "count     4264.000000\n",
      "mean       416.417683\n",
      "std       2308.723416\n",
      "min          0.000000\n",
      "25%          0.000000\n",
      "50%          0.000000\n",
      "75%          0.000000\n",
      "max      34125.000000\n",
      "Name: revenue, dtype: float64\n"
     ]
    }
   ],
   "source": [
    "for i in (union_test,union_control_1,union_control_2):\n",
    "    print(i.revenue.describe())"
   ]
  },
  {
   "cell_type": "code",
   "execution_count": 38,
   "metadata": {},
   "outputs": [
    {
     "data": {
      "application/vnd.jupyter.widget-view+json": {
       "model_id": "e1fbbc4178db4e25af3076235e2f415d",
       "version_major": 2,
       "version_minor": 0
      },
      "text/plain": [
       "HBox(children=(FloatProgress(value=0.0, max=1000.0), HTML(value='')))"
      ]
     },
     "metadata": {},
     "output_type": "display_data"
    },
    {
     "name": "stdout",
     "output_type": "stream",
     "text": [
      "\n"
     ]
    },
    {
     "data": {
      "image/png": "[encoded data removed]",
      "text/plain": [
       "<Figure size 1080x504 with 1 Axes>"
      ]
     },
     "metadata": {},
     "output_type": "display_data"
    },
    {
     "name": "stdout",
     "output_type": "stream",
     "text": [
      "Проверяем, что количество ложноположительных случаев не превышает альфа (< 0.05): p-value      0.028\n",
      "------------------------------------------------------------------------------------------\n",
      "Тест сходится\n"
     ]
    }
   ],
   "source": [
    "AA_test = a_a_test(union_control_1,union_control_2,n_s=500)\n",
    "print(AA_test)\n",
    "print('-'*90)\n",
    "print('Тест сходится' if  float(AA_test.split()[-1])<0.05 else 'Тест не сходится')"
   ]
  },
  {
   "cell_type": "markdown",
   "metadata": {},
   "source": [
    "### ИТОГИ:\n",
    "- **предварительный (разведочный анализ) выявил пропуски, повторы в данных (возможны ошибки в логировании).**\n",
    "- **характер распределений в двух группах может говорить об ошибки сплиттирования**\n",
    "- **после преподготовки данных А/А тескт не показал статистически значимых различий между контрольными выборками**\n",
    "- **(как в users, так и в transactions)**\n",
    "    "
   ]
  },
  {
   "cell_type": "code",
   "execution_count": null,
   "metadata": {},
   "outputs": [],
   "source": []
  },
  {
   "cell_type": "markdown",
   "metadata": {},
   "source": [
    "- **Посмотрим на реакцию метрик в выборках test и control_1**"
   ]
  },
  {
   "cell_type": "markdown",
   "metadata": {},
   "source": [
    "### ARPU, ARPPU, AVG_check (средний чек): "
   ]
  },
  {
   "cell_type": "code",
   "execution_count": 39,
   "metadata": {},
   "outputs": [],
   "source": [
    "ARPU = []\n",
    "for i in (union_test,union_control_1):\n",
    "    j = round(i.total_revenue.mean(),2)\n",
    "    ARPU.append(j)"
   ]
  },
  {
   "cell_type": "code",
   "execution_count": 40,
   "metadata": {},
   "outputs": [],
   "source": [
    "ARPPU = []\n",
    "for i in (union_test,union_control_1):\n",
    "    j = round(i.query('total_revenue > 0')['total_revenue'].mean(),2)\n",
    "    ARPPU.append(j)"
   ]
  },
  {
   "cell_type": "code",
   "execution_count": 41,
   "metadata": {},
   "outputs": [],
   "source": [
    "AVG_check = []\n",
    "for i in (trans_test,trans_control_1):\n",
    "    j = round(i.query('revenue > 0').revenue.mean(),2)\n",
    "    AVG_check.append(j)"
   ]
  },
  {
   "cell_type": "code",
   "execution_count": 42,
   "metadata": {},
   "outputs": [],
   "source": [
    "CR = []\n",
    "for i in (union_test,union_control_1):\n",
    "    j = round(i.query('total_revenue > 0').uid.count()/i.uid.count(),2)*100\n",
    "    CR.append(j)    "
   ]
  },
  {
   "cell_type": "code",
   "execution_count": 83,
   "metadata": {},
   "outputs": [
    {
     "data": {
      "text/html": [
       "<div>\n",
       "<style scoped>\n",
       "    .dataframe tbody tr th:only-of-type {\n",
       "        vertical-align: middle;\n",
       "    }\n",
       "\n",
       "    .dataframe tbody tr th {\n",
       "        vertical-align: top;\n",
       "    }\n",
       "\n",
       "    .dataframe thead th {\n",
       "        text-align: right;\n",
       "    }\n",
       "</style>\n",
       "<table border=\"1\" class=\"dataframe\">\n",
       "  <thead>\n",
       "    <tr style=\"text-align: right;\">\n",
       "      <th></th>\n",
       "      <th>ARPU</th>\n",
       "      <th>ARPPU</th>\n",
       "      <th>AVG_check</th>\n",
       "      <th>CR%</th>\n",
       "    </tr>\n",
       "  </thead>\n",
       "  <tbody>\n",
       "    <tr>\n",
       "      <th>test_group</th>\n",
       "      <td>534.08</td>\n",
       "      <td>NaN</td>\n",
       "      <td>NaN</td>\n",
       "      <td>3.0</td>\n",
       "    </tr>\n",
       "    <tr>\n",
       "      <th>control_group</th>\n",
       "      <td>594.94</td>\n",
       "      <td>NaN</td>\n",
       "      <td>NaN</td>\n",
       "      <td>4.0</td>\n",
       "    </tr>\n",
       "  </tbody>\n",
       "</table>\n",
       "</div>"
      ],
      "text/plain": [
       "                 ARPU  ARPPU  AVG_check  CR%\n",
       "test_group     534.08    NaN        NaN  3.0\n",
       "control_group  594.94    NaN        NaN  4.0"
      ]
     },
     "execution_count": 83,
     "metadata": {},
     "output_type": "execute_result"
    }
   ],
   "source": [
    "df = pd.DataFrame({'ARPU': ARPU,'ARPPU': ARPPU,'AVG_check': AVG_check,'CR%':CR}, index=['test_group','control_group'])\n",
    "df"
   ]
  },
  {
   "cell_type": "markdown",
   "metadata": {},
   "source": [
    "#### Есть следующие изменения : \n",
    "- ##### рост прибыли на платящего пользователя и рост среднего чека;\n",
    "- ##### снижение прибыли на пользователя и конверсии в покупателя;\n",
    "\n",
    "***Проверим статисттическую значимость различий ...***"
   ]
  },
  {
   "cell_type": "markdown",
   "metadata": {},
   "source": [
    "### ARPPU"
   ]
  },
  {
   "cell_type": "code",
   "execution_count": 81,
   "metadata": {},
   "outputs": [
    {
     "data": {
      "image/png": "[encoded data removed]",
      "text/plain": [
       "<Figure size 1080x504 with 1 Axes>"
      ]
     },
     "metadata": {},
     "output_type": "display_data"
    },
    {
     "name": "stdout",
     "output_type": "stream",
     "text": [
      "p-value MW : 0.0008\n",
      "p-value BS : 0.0005\n",
      "p-value T-test : 0.0021\n",
      "quants BS :                 0\n",
      "0.025   921.731452\n",
      "0.975  3149.868548\n"
     ]
    }
   ],
   "source": [
    "data_Control = union_test.query('0<total_revenue<30000').total_revenue\n",
    "data_Treatment = union_control_1.query('0<total_revenue<30000').total_revenue\n",
    "\n",
    "booted_data_mean = get_bootstrap(data_Control, data_Treatment,500,np.mean,y=True,caption = 'ARPPU')\n",
    "print(f'p-value MW : {round(stats.mannwhitneyu(data_Control, data_Treatment)[1],4)}')\n",
    "print(f'p-value BS : {round(booted_data_mean[\"p_value\"],4)}')\n",
    "print(f'p-value T-test : {round(stats.ttest_ind(data_Control, data_Treatment)[1],4)}')\n",
    "print(f'quants BS :{booted_data_mean[\"quants\"]}')"
   ]
  },
  {
   "cell_type": "markdown",
   "metadata": {},
   "source": [
    "### ARPU"
   ]
  },
  {
   "cell_type": "code",
   "execution_count": 80,
   "metadata": {},
   "outputs": [
    {
     "data": {
      "image/png": "[encoded data removed]",
      "text/plain": [
       "<Figure size 1080x504 with 1 Axes>"
      ]
     },
     "metadata": {},
     "output_type": "display_data"
    },
    {
     "name": "stdout",
     "output_type": "stream",
     "text": [
      "p-value MW : 0.0082\n",
      "p-value BS : 0.6717\n",
      "p-value T-test : 0.6606\n",
      "quants BS :                0\n",
      "0.025 -368.053065\n",
      "0.975  182.924603\n"
     ]
    }
   ],
   "source": [
    "data_Control = union_test.total_revenue\n",
    "data_Treatment = union_control_1.total_revenue\n",
    "\n",
    "booted_data_mean = get_bootstrap(data_Control, data_Treatment,500,np.mean,y=True,caption = 'ARPU')\n",
    "print(f'p-value MW : {round(stats.mannwhitneyu(data_Control, data_Treatment)[1],4)}')\n",
    "print(f'p-value BS : {round(booted_data_mean[\"p_value\"],4)}')\n",
    "print(f'p-value T-test : {round(stats.ttest_ind(data_Control, data_Treatment)[1],4)}')\n",
    "print(f'quants BS :{booted_data_mean[\"quants\"]}')"
   ]
  },
  {
   "cell_type": "markdown",
   "metadata": {},
   "source": [
    "### AVG_check"
   ]
  },
  {
   "cell_type": "code",
   "execution_count": 79,
   "metadata": {},
   "outputs": [
    {
     "data": {
      "image/png": "[encoded data removed]",
      "text/plain": [
       "<Figure size 1080x504 with 1 Axes>"
      ]
     },
     "metadata": {},
     "output_type": "display_data"
    },
    {
     "name": "stdout",
     "output_type": "stream",
     "text": [
      "p-value MW : 0.0033\n",
      "p-value BS : 0.0\n",
      "p-value T-test : 0.0001\n",
      "quants BS :                 0\n",
      "0.025   713.761769\n",
      "0.975  2016.165058\n"
     ]
    }
   ],
   "source": [
    "data_Control = transactions_t.revenue\n",
    "data_Treatment = transactions_contr_1.revenue\n",
    "\n",
    "booted_data_mean = get_bootstrap(data_Control, data_Treatment,500,np.mean,y=True,caption = 'AVG_check')\n",
    "print(f'p-value MW : {round(stats.mannwhitneyu(data_Control, data_Treatment)[1],4)}')\n",
    "print(f'p-value BS : {round(booted_data_mean[\"p_value\"],4)}')\n",
    "print(f'p-value T-test : {round(stats.ttest_ind(data_Control, data_Treatment)[1],4)}')\n",
    "print(f'quants BS :{booted_data_mean[\"quants\"]}')"
   ]
  },
  {
   "cell_type": "code",
   "execution_count": null,
   "metadata": {},
   "outputs": [],
   "source": []
  },
  {
   "cell_type": "markdown",
   "metadata": {},
   "source": [
    "- ***тесты и статистика показывают стат.значимые различия для метрик AVG_check и ARPPU.***"
   ]
  },
  {
   "cell_type": "markdown",
   "metadata": {},
   "source": [
    "#### Посмотрим  по типам подписки:"
   ]
  },
  {
   "cell_type": "code",
   "execution_count": 47,
   "metadata": {},
   "outputs": [
    {
     "data": {
      "text/html": [
       "<div>\n",
       "<style scoped>\n",
       "    .dataframe tbody tr th:only-of-type {\n",
       "        vertical-align: middle;\n",
       "    }\n",
       "\n",
       "    .dataframe tbody tr th {\n",
       "        vertical-align: top;\n",
       "    }\n",
       "\n",
       "    .dataframe thead th {\n",
       "        text-align: right;\n",
       "    }\n",
       "</style>\n",
       "<table border=\"1\" class=\"dataframe\">\n",
       "  <thead>\n",
       "    <tr style=\"text-align: right;\">\n",
       "      <th></th>\n",
       "      <th>product_type</th>\n",
       "      <th>revenue</th>\n",
       "      <th>uid</th>\n",
       "    </tr>\n",
       "  </thead>\n",
       "  <tbody>\n",
       "    <tr>\n",
       "      <th>0</th>\n",
       "      <td>coins</td>\n",
       "      <td>377026</td>\n",
       "      <td>48</td>\n",
       "    </tr>\n",
       "    <tr>\n",
       "      <th>1</th>\n",
       "      <td>other_type</td>\n",
       "      <td>93470</td>\n",
       "      <td>18</td>\n",
       "    </tr>\n",
       "    <tr>\n",
       "      <th>2</th>\n",
       "      <td>premium_no_trial</td>\n",
       "      <td>583752</td>\n",
       "      <td>65</td>\n",
       "    </tr>\n",
       "    <tr>\n",
       "      <th>3</th>\n",
       "      <td>trial_premium</td>\n",
       "      <td>800202</td>\n",
       "      <td>61</td>\n",
       "    </tr>\n",
       "  </tbody>\n",
       "</table>\n",
       "</div>"
      ],
      "text/plain": [
       "       product_type  revenue  uid\n",
       "0             coins   377026   48\n",
       "1        other_type    93470   18\n",
       "2  premium_no_trial   583752   65\n",
       "3     trial_premium   800202   61"
      ]
     },
     "execution_count": 47,
     "metadata": {},
     "output_type": "execute_result"
    }
   ],
   "source": [
    "transactions_t.groupby('product_type').agg({'revenue':'sum','uid': pd.Series.nunique}).reset_index()"
   ]
  },
  {
   "cell_type": "code",
   "execution_count": 121,
   "metadata": {},
   "outputs": [
    {
     "data": {
      "image/png": "[encoded data removed]",
      "text/plain": [
       "<Figure size 1008x432 with 8 Axes>"
      ]
     },
     "metadata": {},
     "output_type": "display_data"
    }
   ],
   "source": [
    "fig, axes = plt.subplots(2, 4)\n",
    "sns.set(rc={'figure.figsize': (14,6)})\n",
    "ax = transactions_t.query('product_type == \"trial_premium\"').revenue.hist(bins=30, ax=axes[0][0])\n",
    "ax = transactions_contr_1.query('product_type == \"trial_premium\"').revenue.hist(bins=30, ax=axes[1][0])\n",
    "ax.set(xlabel='trial_premium')\n",
    "ax = transactions_t.query('product_type == \"other_type\"').revenue.hist(bins=30, ax=axes[0][1])\n",
    "ax = transactions_contr_1.query('product_type == \"other_type\"').revenue.hist(bins=30, ax=axes[1][1])\n",
    "ax.set(xlabel='other_type')\n",
    "ax = transactions_t.query('product_type == \"premium_no_trial\"').revenue.hist(bins=30, ax=axes[0][2])\n",
    "ax = transactions_contr_1.query('product_type == \"premium_no_trial\"').revenue.hist(bins=30, ax=axes[1][2])\n",
    "ax.set(xlabel='premium_no_trial')\n",
    "ax = transactions_t.query('product_type == \"coins\"').revenue.hist(bins=30, ax=axes[0][3])\n",
    "ax = transactions_contr_1.query('product_type == \"coins\"').revenue.hist(bins=30, ax=axes[1][3])\n",
    "ax.set(xlabel='coins')\n",
    "plt.show()"
   ]
  },
  {
   "cell_type": "markdown",
   "metadata": {},
   "source": [
    "### 1. product_type == \"coins\""
   ]
  },
  {
   "cell_type": "markdown",
   "metadata": {},
   "source": [
    "#### ARPPU"
   ]
  },
  {
   "cell_type": "code",
   "execution_count": 49,
   "metadata": {},
   "outputs": [
    {
     "name": "stdout",
     "output_type": "stream",
     "text": [
      "p-value MW : 0.4849\n",
      "p-value BS : 0.8771\n",
      "p-value T-test : 0.907\n"
     ]
    }
   ],
   "source": [
    "data_Control = transactions_t.query('revenue > 0 and product_type == \"coins\"').groupby('uid').revenue.sum()\n",
    "data_Treatment = transactions_contr_1.query('revenue > 0 and product_type == \"coins\"').groupby('uid').revenue.sum()\n",
    "\n",
    "booted_data_mean = get_bootstrap(data_Control, data_Treatment,1000,np.mean,y=False)\n",
    "print(f'p-value MW : {round(stats.mannwhitneyu(data_Control, data_Treatment)[1],4)}')\n",
    "print(f'p-value BS : {round(booted_data_mean[\"p_value\"],4)}')\n",
    "print(f'p-value T-test : {round(stats.ttest_ind(data_Control, data_Treatment)[1],4)}')"
   ]
  },
  {
   "cell_type": "markdown",
   "metadata": {},
   "source": [
    "#### AVG_check"
   ]
  },
  {
   "cell_type": "code",
   "execution_count": 50,
   "metadata": {},
   "outputs": [
    {
     "name": "stdout",
     "output_type": "stream",
     "text": [
      "p-value MW : 0.0943\n",
      "p-value BS : 0.8009\n",
      "p-value T-test : 0.7941\n"
     ]
    }
   ],
   "source": [
    "data_Control = transactions_t.query('product_type == \"coins\"').revenue\n",
    "data_Treatment = transactions_contr_1.query('product_type == \"coins\"').revenue\n",
    "\n",
    "booted_data_mean = get_bootstrap(data_Control, data_Treatment,1000,np.mean,y=False)\n",
    "print(f'p-value MW : {round(stats.mannwhitneyu(data_Control, data_Treatment)[1],4)}')\n",
    "print(f'p-value BS : {round(booted_data_mean[\"p_value\"],4)}')\n",
    "print(f'p-value T-test : {round(stats.ttest_ind(data_Control, data_Treatment)[1],4)}')"
   ]
  },
  {
   "cell_type": "markdown",
   "metadata": {},
   "source": [
    "### 2. product_type == \"premium_no_trial\""
   ]
  },
  {
   "cell_type": "markdown",
   "metadata": {},
   "source": [
    "#### ARPPU"
   ]
  },
  {
   "cell_type": "code",
   "execution_count": 51,
   "metadata": {
    "scrolled": true
   },
   "outputs": [
    {
     "name": "stdout",
     "output_type": "stream",
     "text": [
      "p-value MW : 0.0\n",
      "p-value BS : 0.0\n",
      "p-value T-test : 0.0\n"
     ]
    }
   ],
   "source": [
    "data_Control = transactions_t.query('revenue > 0 and product_type == \"premium_no_trial\"')\\\n",
    "                             .groupby('uid').revenue.sum()\n",
    "data_Treatment = transactions_contr_1.query('revenue > 0 and product_type == \"premium_no_trial\"')\\\n",
    "                                     .groupby('uid').revenue.sum()\n",
    "\n",
    "booted_data_mean = get_bootstrap(data_Control, data_Treatment,1000,np.mean,y=False)\n",
    "print(f'p-value MW : {round(stats.mannwhitneyu(data_Control, data_Treatment)[1],4)}')\n",
    "print(f'p-value BS : {round(booted_data_mean[\"p_value\"],4)}')\n",
    "print(f'p-value T-test : {round(stats.ttest_ind(data_Control, data_Treatment)[1],4)}')"
   ]
  },
  {
   "cell_type": "markdown",
   "metadata": {},
   "source": [
    "#### AVG_check"
   ]
  },
  {
   "cell_type": "code",
   "execution_count": 52,
   "metadata": {},
   "outputs": [
    {
     "name": "stdout",
     "output_type": "stream",
     "text": [
      "p-value MW : 0.0\n",
      "p-value BS : 0.0\n",
      "p-value T-test : 0.0\n"
     ]
    }
   ],
   "source": [
    "data_Control = transactions_t.query('revenue > 0 and product_type == \"premium_no_trial\"').revenue\n",
    "data_Treatment = transactions_contr_1.query('revenue > 0 and product_type == \"premium_no_trial\"').revenue\n",
    "\n",
    "booted_data_mean = get_bootstrap(data_Control, data_Treatment,1000,np.mean,y=False)\n",
    "print(f'p-value MW : {round(stats.mannwhitneyu(data_Control, data_Treatment)[1],4)}')\n",
    "print(f'p-value BS : {round(booted_data_mean[\"p_value\"],4)}')\n",
    "print(f'p-value T-test : {round(stats.ttest_ind(data_Control, data_Treatment)[1],4)}')"
   ]
  },
  {
   "cell_type": "markdown",
   "metadata": {},
   "source": [
    "### 3. product_type == \"trial_premium\""
   ]
  },
  {
   "cell_type": "markdown",
   "metadata": {},
   "source": [
    "#### ARPPU"
   ]
  },
  {
   "cell_type": "code",
   "execution_count": 53,
   "metadata": {},
   "outputs": [
    {
     "name": "stdout",
     "output_type": "stream",
     "text": [
      "p-value MW : 0.0015\n",
      "p-value BS : 0.0004\n",
      "p-value T-test : 0.0008\n"
     ]
    }
   ],
   "source": [
    "data_Control = transactions_t.query('revenue > 0 and product_type == \"trial_premium\"')\\\n",
    "                             .groupby('uid').revenue.sum()\n",
    "data_Treatment = transactions_contr_1.query('revenue > 0 and product_type == \"trial_premium\"')\\\n",
    "                                     .groupby('uid').revenue.sum()\n",
    "\n",
    "booted_data_mean = get_bootstrap(data_Control, data_Treatment,1000,np.mean,y=False)\n",
    "print(f'p-value MW : {round(stats.mannwhitneyu(data_Control, data_Treatment)[1],4)}')\n",
    "print(f'p-value BS : {round(booted_data_mean[\"p_value\"],4)}')\n",
    "print(f'p-value T-test : {round(stats.ttest_ind(data_Control, data_Treatment)[1],4)}')"
   ]
  },
  {
   "cell_type": "markdown",
   "metadata": {},
   "source": [
    "#### AVG_check"
   ]
  },
  {
   "cell_type": "code",
   "execution_count": 54,
   "metadata": {},
   "outputs": [
    {
     "name": "stdout",
     "output_type": "stream",
     "text": [
      "p-value MW : 0.0018\n",
      "p-value BS : 0.0007\n",
      "p-value T-test : 0.0012\n"
     ]
    }
   ],
   "source": [
    "data_Control = transactions_t.query('revenue > 0 and product_type == \"trial_premium\"').revenue\n",
    "data_Treatment = transactions_contr_1.query('revenue > 0 and product_type == \"trial_premium\"').revenue\n",
    "\n",
    "booted_data_mean = get_bootstrap(data_Control, data_Treatment,1000,np.mean,y=False)\n",
    "print(f'p-value MW : {round(stats.mannwhitneyu(data_Control, data_Treatment)[1],4)}')\n",
    "print(f'p-value BS : {round(booted_data_mean[\"p_value\"],4)}')\n",
    "print(f'p-value T-test : {round(stats.ttest_ind(data_Control, data_Treatment)[1],4)}')"
   ]
  },
  {
   "cell_type": "markdown",
   "metadata": {},
   "source": [
    "### 4. product_type == \"other_type\""
   ]
  },
  {
   "cell_type": "markdown",
   "metadata": {},
   "source": [
    "#### ARPPU"
   ]
  },
  {
   "cell_type": "code",
   "execution_count": 55,
   "metadata": {},
   "outputs": [
    {
     "name": "stdout",
     "output_type": "stream",
     "text": [
      "p-value MW : 0.3695\n",
      "p-value BS : 0.596\n",
      "p-value T-test : 0.6573\n"
     ]
    }
   ],
   "source": [
    "data_Control = transactions_t.query('revenue > 0 and product_type == \"other_type\"')\\\n",
    "                             .groupby('uid').revenue.sum()\n",
    "data_Treatment = transactions_contr_1.query('revenue > 0 and product_type == \"other_type\"')\\\n",
    "                                     .groupby('uid').revenue.sum()\n",
    "\n",
    "booted_data_mean = get_bootstrap(data_Control, data_Treatment,1000,np.mean,y=False)\n",
    "print(f'p-value MW : {round(stats.mannwhitneyu(data_Control, data_Treatment)[1],4)}')\n",
    "print(f'p-value BS : {round(booted_data_mean[\"p_value\"],4)}')\n",
    "print(f'p-value T-test : {round(stats.ttest_ind(data_Control, data_Treatment)[1],4)}')"
   ]
  },
  {
   "cell_type": "markdown",
   "metadata": {},
   "source": [
    "#### AVG_check"
   ]
  },
  {
   "cell_type": "code",
   "execution_count": 56,
   "metadata": {},
   "outputs": [
    {
     "name": "stdout",
     "output_type": "stream",
     "text": [
      "p-value MW : 0.2863\n",
      "p-value BS : 0.1861\n",
      "p-value T-test : 0.2158\n"
     ]
    }
   ],
   "source": [
    "data_Control = transactions_t.query('revenue > 0 and product_type == \"other_type\"').revenue\n",
    "data_Treatment = transactions_contr_1.query('revenue > 0 and product_type == \"other_type\"').revenue\n",
    "\n",
    "booted_data_mean = get_bootstrap(data_Control, data_Treatment,1000,np.mean,y=False)\n",
    "print(f'p-value MW : {round(stats.mannwhitneyu(data_Control, data_Treatment)[1],4)}')\n",
    "print(f'p-value BS : {round(booted_data_mean[\"p_value\"],4)}')\n",
    "print(f'p-value T-test : {round(stats.ttest_ind(data_Control, data_Treatment)[1],4)}')"
   ]
  },
  {
   "cell_type": "markdown",
   "metadata": {},
   "source": [
    " - **тесты показывают стат.значимые различия в метриках ARPPU и AVG_check для типов:** \n",
    " **'trial_premium' , 'premium_no_trial'**"
   ]
  },
  {
   "cell_type": "code",
   "execution_count": null,
   "metadata": {},
   "outputs": [],
   "source": []
  },
  {
   "cell_type": "markdown",
   "metadata": {},
   "source": [
    "### Посмотрим эти метрики по странам:"
   ]
  },
  {
   "cell_type": "code",
   "execution_count": 57,
   "metadata": {},
   "outputs": [],
   "source": [
    "def bootstrap(data_Control,data_Treatment):\n",
    "    booted_data_mean = get_bootstrap(data_Control, data_Treatment,50,np.mean,y=False)    \n",
    "    return round(booted_data_mean[\"p_value\"],4)"
   ]
  },
  {
   "cell_type": "markdown",
   "metadata": {},
   "source": [
    "#### \"trial_premium\""
   ]
  },
  {
   "cell_type": "code",
   "execution_count": 58,
   "metadata": {},
   "outputs": [],
   "source": [
    "ARPPU, AVG_check = {},{}\n",
    "\n",
    "for country in country_list:\n",
    "     if country in list(transactions_t.query('product_type == \"trial_premium\"').country.unique()) and\\\n",
    "        country in list(transactions_contr_1.query('product_type == \"trial_premium\"').country.unique()):\n",
    "        \n",
    "        data_Control = transactions_t\\\n",
    "            .query(f'revenue > 0 and product_type == \"trial_premium\" and country == \"{country}\"').revenue\n",
    "        data_Treatment = transactions_contr_1\\\n",
    "            .query(f'revenue > 0 and product_type == \"trial_premium\" and country == \"{country}\"').revenue\n",
    "        \n",
    "        AVG_check[country]=bootstrap(data_Control,data_Treatment)\n",
    "        \n",
    "        \n",
    "        data_Control = transactions_t\\\n",
    "            .query(f'revenue > 0 and product_type == \"trial_premium\" and country == \"{country}\"')\\\n",
    "            .groupby('uid').revenue.sum()\n",
    "        data_Treatment = transactions_contr_1\\\n",
    "            .query(f'revenue > 0 and product_type == \"trial_premium\" and country == \"{country}\"')\\\n",
    "            .groupby('uid').revenue.sum()\n",
    "        \n",
    "        ARPPU[country]=bootstrap(data_Control,data_Treatment)    \n",
    "\n",
    "trial_df = pd.DataFrame({'country_avg':[k for k in AVG_check.keys()],\n",
    "                           'avg_check':[v for v in AVG_check.values()],\n",
    "                               'arppu':[v for v in ARPPU.values()]}).dropna()"
   ]
  },
  {
   "cell_type": "markdown",
   "metadata": {},
   "source": [
    "#### \"premium_no_trial\""
   ]
  },
  {
   "cell_type": "code",
   "execution_count": 59,
   "metadata": {
    "scrolled": false
   },
   "outputs": [],
   "source": [
    "ARPPU_, AVG_check_ = {},{}\n",
    "for country in country_list:    \n",
    "    if country in list(transactions_t.query('product_type == \"premium_no_trial\"').country.unique()) and\\\n",
    "        country in list(transactions_contr_1.query('product_type == \"premium_no_trial\"').country.unique()):\n",
    "        \n",
    "        data_Control = transactions_t\\\n",
    "            .query(f'revenue > 0 and product_type == \"premium_no_trial\" and country == \"{country}\"').revenue\n",
    "        data_Treatment = transactions_contr_1\\\n",
    "            .query(f'revenue > 0 and product_type == \"premium_no_trial\" and country == \"{country}\"').revenue\n",
    "        \n",
    "        AVG_check_[country]=bootstrap(data_Control,data_Treatment)\n",
    "        \n",
    "        data_Control = transactions_t\\\n",
    "            .query(f'revenue > 0 and product_type == \"premium_no_trial\" and country == \"{country}\"')\\\n",
    "            .groupby('uid').revenue.sum()\n",
    "        data_Treatment = transactions_contr_1\\\n",
    "            .query(f'revenue > 0 and product_type == \"premium_no_trial\" and country == \"{country}\"')\\\n",
    "            .groupby('uid').revenue.sum()\n",
    "        \n",
    "        ARPPU_[country]=bootstrap(data_Control,data_Treatment)\n",
    "\n",
    "no_trial_df = pd.DataFrame({'country_avg':[k for k in AVG_check_.keys()],\n",
    "                              'avg_check':[v for v in AVG_check_.values()],\n",
    "                                  'arppu':[v for v in ARPPU_.values()]}).dropna()"
   ]
  },
  {
   "cell_type": "markdown",
   "metadata": {},
   "source": [
    ">***p-value \"trial_premium\" :***"
   ]
  },
  {
   "cell_type": "code",
   "execution_count": 60,
   "metadata": {},
   "outputs": [
    {
     "data": {
      "text/html": [
       "<div>\n",
       "<style scoped>\n",
       "    .dataframe tbody tr th:only-of-type {\n",
       "        vertical-align: middle;\n",
       "    }\n",
       "\n",
       "    .dataframe tbody tr th {\n",
       "        vertical-align: top;\n",
       "    }\n",
       "\n",
       "    .dataframe thead th {\n",
       "        text-align: right;\n",
       "    }\n",
       "</style>\n",
       "<table border=\"1\" class=\"dataframe\">\n",
       "  <thead>\n",
       "    <tr style=\"text-align: right;\">\n",
       "      <th></th>\n",
       "      <th>country_avg</th>\n",
       "      <th>avg_check</th>\n",
       "      <th>arppu</th>\n",
       "    </tr>\n",
       "  </thead>\n",
       "  <tbody>\n",
       "    <tr>\n",
       "      <th>4</th>\n",
       "      <td>United Arab Emirates</td>\n",
       "      <td>0.0110</td>\n",
       "      <td>0.0037</td>\n",
       "    </tr>\n",
       "    <tr>\n",
       "      <th>5</th>\n",
       "      <td>Argentina</td>\n",
       "      <td>0.0000</td>\n",
       "      <td>0.0000</td>\n",
       "    </tr>\n",
       "    <tr>\n",
       "      <th>6</th>\n",
       "      <td>France</td>\n",
       "      <td>0.0003</td>\n",
       "      <td>0.0075</td>\n",
       "    </tr>\n",
       "    <tr>\n",
       "      <th>7</th>\n",
       "      <td>United Kingdom (Great Britain)</td>\n",
       "      <td>0.0291</td>\n",
       "      <td>0.0406</td>\n",
       "    </tr>\n",
       "  </tbody>\n",
       "</table>\n",
       "</div>"
      ],
      "text/plain": [
       "                      country_avg  avg_check   arppu\n",
       "4            United Arab Emirates     0.0110  0.0037\n",
       "5                       Argentina     0.0000  0.0000\n",
       "6                          France     0.0003  0.0075\n",
       "7  United Kingdom (Great Britain)     0.0291  0.0406"
      ]
     },
     "execution_count": 60,
     "metadata": {},
     "output_type": "execute_result"
    }
   ],
   "source": [
    "trial_df.query('avg_check <= 0.05 and arppu <= 0.05').head()"
   ]
  },
  {
   "cell_type": "markdown",
   "metadata": {},
   "source": [
    ">***p-value \"premium_no_trial\" :***"
   ]
  },
  {
   "cell_type": "code",
   "execution_count": 61,
   "metadata": {},
   "outputs": [
    {
     "data": {
      "text/html": [
       "<div>\n",
       "<style scoped>\n",
       "    .dataframe tbody tr th:only-of-type {\n",
       "        vertical-align: middle;\n",
       "    }\n",
       "\n",
       "    .dataframe tbody tr th {\n",
       "        vertical-align: top;\n",
       "    }\n",
       "\n",
       "    .dataframe thead th {\n",
       "        text-align: right;\n",
       "    }\n",
       "</style>\n",
       "<table border=\"1\" class=\"dataframe\">\n",
       "  <thead>\n",
       "    <tr style=\"text-align: right;\">\n",
       "      <th></th>\n",
       "      <th>country_avg</th>\n",
       "      <th>avg_check</th>\n",
       "      <th>arppu</th>\n",
       "    </tr>\n",
       "  </thead>\n",
       "  <tbody>\n",
       "    <tr>\n",
       "      <th>1</th>\n",
       "      <td>United States of America</td>\n",
       "      <td>0.0000</td>\n",
       "      <td>0.0000</td>\n",
       "    </tr>\n",
       "    <tr>\n",
       "      <th>4</th>\n",
       "      <td>United Arab Emirates</td>\n",
       "      <td>0.0000</td>\n",
       "      <td>0.0060</td>\n",
       "    </tr>\n",
       "    <tr>\n",
       "      <th>5</th>\n",
       "      <td>Argentina</td>\n",
       "      <td>0.0080</td>\n",
       "      <td>0.0131</td>\n",
       "    </tr>\n",
       "    <tr>\n",
       "      <th>6</th>\n",
       "      <td>France</td>\n",
       "      <td>0.0118</td>\n",
       "      <td>0.0246</td>\n",
       "    </tr>\n",
       "    <tr>\n",
       "      <th>8</th>\n",
       "      <td>Israel</td>\n",
       "      <td>0.0000</td>\n",
       "      <td>0.0000</td>\n",
       "    </tr>\n",
       "  </tbody>\n",
       "</table>\n",
       "</div>"
      ],
      "text/plain": [
       "                country_avg  avg_check   arppu\n",
       "1  United States of America     0.0000  0.0000\n",
       "4      United Arab Emirates     0.0000  0.0060\n",
       "5                 Argentina     0.0080  0.0131\n",
       "6                    France     0.0118  0.0246\n",
       "8                    Israel     0.0000  0.0000"
      ]
     },
     "execution_count": 61,
     "metadata": {},
     "output_type": "execute_result"
    }
   ],
   "source": [
    "no_trial_df.query('avg_check <= 0.05 and arppu <= 0.05').head()"
   ]
  },
  {
   "cell_type": "markdown",
   "metadata": {},
   "source": [
    ">***Склеим и посмотрим по-внимательнее на группу \"финалистов\" ...***"
   ]
  },
  {
   "cell_type": "code",
   "execution_count": 62,
   "metadata": {},
   "outputs": [
    {
     "data": {
      "text/html": [
       "<style  type=\"text/css\" >\n",
       "#T_f754b3b2_87e2_11eb_af76_96000040dfb6row0_col0{\n",
       "            width:  10em;\n",
       "             height:  80%;\n",
       "            background:  linear-gradient(90deg,grey 100.0%, transparent 100.0%);\n",
       "        }#T_f754b3b2_87e2_11eb_af76_96000040dfb6row0_col1{\n",
       "            width:  10em;\n",
       "             height:  80%;\n",
       "            background:  linear-gradient(90deg,red 100.0%, transparent 100.0%);\n",
       "        }#T_f754b3b2_87e2_11eb_af76_96000040dfb6row1_col0{\n",
       "            width:  10em;\n",
       "             height:  80%;\n",
       "            background:  linear-gradient(90deg,grey 82.6%, transparent 82.6%);\n",
       "        }#T_f754b3b2_87e2_11eb_af76_96000040dfb6row1_col1{\n",
       "            width:  10em;\n",
       "             height:  80%;\n",
       "            background:  linear-gradient(90deg,red 56.1%, transparent 56.1%);\n",
       "        }#T_f754b3b2_87e2_11eb_af76_96000040dfb6row2_col0{\n",
       "            width:  10em;\n",
       "             height:  80%;\n",
       "            background:  linear-gradient(90deg,grey 34.8%, transparent 34.8%);\n",
       "        }#T_f754b3b2_87e2_11eb_af76_96000040dfb6row2_col1{\n",
       "            width:  10em;\n",
       "             height:  80%;\n",
       "            background:  linear-gradient(90deg,red 46.9%, transparent 46.9%);\n",
       "        }#T_f754b3b2_87e2_11eb_af76_96000040dfb6row3_col0,#T_f754b3b2_87e2_11eb_af76_96000040dfb6row5_col0{\n",
       "            width:  10em;\n",
       "             height:  80%;\n",
       "            background:  linear-gradient(90deg,grey 21.7%, transparent 21.7%);\n",
       "        }#T_f754b3b2_87e2_11eb_af76_96000040dfb6row3_col1{\n",
       "            width:  10em;\n",
       "             height:  80%;\n",
       "            background:  linear-gradient(90deg,red 13.5%, transparent 13.5%);\n",
       "        }#T_f754b3b2_87e2_11eb_af76_96000040dfb6row4_col0{\n",
       "            width:  10em;\n",
       "             height:  80%;\n",
       "            background:  linear-gradient(90deg,grey 17.4%, transparent 17.4%);\n",
       "        }#T_f754b3b2_87e2_11eb_af76_96000040dfb6row4_col1{\n",
       "            width:  10em;\n",
       "             height:  80%;\n",
       "            background:  linear-gradient(90deg,red 13.2%, transparent 13.2%);\n",
       "        }#T_f754b3b2_87e2_11eb_af76_96000040dfb6row5_col1{\n",
       "            width:  10em;\n",
       "             height:  80%;\n",
       "            background:  linear-gradient(90deg,red 9.7%, transparent 9.7%);\n",
       "        }#T_f754b3b2_87e2_11eb_af76_96000040dfb6row6_col0{\n",
       "            width:  10em;\n",
       "             height:  80%;\n",
       "            background:  linear-gradient(90deg,grey 8.7%, transparent 8.7%);\n",
       "        }#T_f754b3b2_87e2_11eb_af76_96000040dfb6row6_col1{\n",
       "            width:  10em;\n",
       "             height:  80%;\n",
       "            background:  linear-gradient(90deg,red 9.6%, transparent 9.6%);\n",
       "        }#T_f754b3b2_87e2_11eb_af76_96000040dfb6row7_col0{\n",
       "            width:  10em;\n",
       "             height:  80%;\n",
       "            background:  linear-gradient(90deg,grey 4.3%, transparent 4.3%);\n",
       "        }#T_f754b3b2_87e2_11eb_af76_96000040dfb6row7_col1{\n",
       "            width:  10em;\n",
       "             height:  80%;\n",
       "            background:  linear-gradient(90deg,red 4.2%, transparent 4.2%);\n",
       "        }#T_f754b3b2_87e2_11eb_af76_96000040dfb6row8_col0,#T_f754b3b2_87e2_11eb_af76_96000040dfb6row8_col1{\n",
       "            width:  10em;\n",
       "             height:  80%;\n",
       "        }</style><table id=\"T_f754b3b2_87e2_11eb_af76_96000040dfb6\" ><thead>    <tr>        <th class=\"blank\" ></th>        <th class=\"blank level0\" ></th>        <th class=\"col_heading level0 col0\" >uid</th>        <th class=\"col_heading level0 col1\" >revenue</th>    </tr>    <tr>        <th class=\"index_name level0\" >country</th>        <th class=\"index_name level1\" >product_type</th>        <th class=\"blank\" ></th>        <th class=\"blank\" ></th>    </tr></thead><tbody>\n",
       "                <tr>\n",
       "                        <th id=\"T_f754b3b2_87e2_11eb_af76_96000040dfb6level0_row0\" class=\"row_heading level0 row0\" rowspan=2>United States of America</th>\n",
       "                        <th id=\"T_f754b3b2_87e2_11eb_af76_96000040dfb6level1_row0\" class=\"row_heading level1 row0\" >trial_premium</th>\n",
       "                        <td id=\"T_f754b3b2_87e2_11eb_af76_96000040dfb6row0_col0\" class=\"data row0 col0\" >24</td>\n",
       "                        <td id=\"T_f754b3b2_87e2_11eb_af76_96000040dfb6row0_col1\" class=\"data row0 col1\" >$284752</td>\n",
       "            </tr>\n",
       "            <tr>\n",
       "                                <th id=\"T_f754b3b2_87e2_11eb_af76_96000040dfb6level1_row1\" class=\"row_heading level1 row1\" >premium_no_trial</th>\n",
       "                        <td id=\"T_f754b3b2_87e2_11eb_af76_96000040dfb6row1_col0\" class=\"data row1 col0\" >20</td>\n",
       "                        <td id=\"T_f754b3b2_87e2_11eb_af76_96000040dfb6row1_col1\" class=\"data row1 col1\" >$165750</td>\n",
       "            </tr>\n",
       "            <tr>\n",
       "                        <th id=\"T_f754b3b2_87e2_11eb_af76_96000040dfb6level0_row2\" class=\"row_heading level0 row2\" >France</th>\n",
       "                        <th id=\"T_f754b3b2_87e2_11eb_af76_96000040dfb6level1_row2\" class=\"row_heading level1 row2\" >trial_premium</th>\n",
       "                        <td id=\"T_f754b3b2_87e2_11eb_af76_96000040dfb6row2_col0\" class=\"data row2 col0\" >9</td>\n",
       "                        <td id=\"T_f754b3b2_87e2_11eb_af76_96000040dfb6row2_col1\" class=\"data row2 col1\" >$140946</td>\n",
       "            </tr>\n",
       "            <tr>\n",
       "                        <th id=\"T_f754b3b2_87e2_11eb_af76_96000040dfb6level0_row3\" class=\"row_heading level0 row3\" >United Arab Emirates</th>\n",
       "                        <th id=\"T_f754b3b2_87e2_11eb_af76_96000040dfb6level1_row3\" class=\"row_heading level1 row3\" >premium_no_trial</th>\n",
       "                        <td id=\"T_f754b3b2_87e2_11eb_af76_96000040dfb6row3_col0\" class=\"data row3 col0\" >6</td>\n",
       "                        <td id=\"T_f754b3b2_87e2_11eb_af76_96000040dfb6row3_col1\" class=\"data row3 col1\" >$50479</td>\n",
       "            </tr>\n",
       "            <tr>\n",
       "                        <th id=\"T_f754b3b2_87e2_11eb_af76_96000040dfb6level0_row4\" class=\"row_heading level0 row4\" >Argentina</th>\n",
       "                        <th id=\"T_f754b3b2_87e2_11eb_af76_96000040dfb6level1_row4\" class=\"row_heading level1 row4\" >premium_no_trial</th>\n",
       "                        <td id=\"T_f754b3b2_87e2_11eb_af76_96000040dfb6row4_col0\" class=\"data row4 col0\" >5</td>\n",
       "                        <td id=\"T_f754b3b2_87e2_11eb_af76_96000040dfb6row4_col1\" class=\"data row4 col1\" >$49413</td>\n",
       "            </tr>\n",
       "            <tr>\n",
       "                        <th id=\"T_f754b3b2_87e2_11eb_af76_96000040dfb6level0_row5\" class=\"row_heading level0 row5\" >France</th>\n",
       "                        <th id=\"T_f754b3b2_87e2_11eb_af76_96000040dfb6level1_row5\" class=\"row_heading level1 row5\" >premium_no_trial</th>\n",
       "                        <td id=\"T_f754b3b2_87e2_11eb_af76_96000040dfb6row5_col0\" class=\"data row5 col0\" >6</td>\n",
       "                        <td id=\"T_f754b3b2_87e2_11eb_af76_96000040dfb6row5_col1\" class=\"data row5 col1\" >$40066</td>\n",
       "            </tr>\n",
       "            <tr>\n",
       "                        <th id=\"T_f754b3b2_87e2_11eb_af76_96000040dfb6level0_row6\" class=\"row_heading level0 row6\" >United Arab Emirates</th>\n",
       "                        <th id=\"T_f754b3b2_87e2_11eb_af76_96000040dfb6level1_row6\" class=\"row_heading level1 row6\" >trial_premium</th>\n",
       "                        <td id=\"T_f754b3b2_87e2_11eb_af76_96000040dfb6row6_col0\" class=\"data row6 col0\" >3</td>\n",
       "                        <td id=\"T_f754b3b2_87e2_11eb_af76_96000040dfb6row6_col1\" class=\"data row6 col1\" >$39741</td>\n",
       "            </tr>\n",
       "            <tr>\n",
       "                        <th id=\"T_f754b3b2_87e2_11eb_af76_96000040dfb6level0_row7\" class=\"row_heading level0 row7\" >Israel</th>\n",
       "                        <th id=\"T_f754b3b2_87e2_11eb_af76_96000040dfb6level1_row7\" class=\"row_heading level1 row7\" >premium_no_trial</th>\n",
       "                        <td id=\"T_f754b3b2_87e2_11eb_af76_96000040dfb6row7_col0\" class=\"data row7 col0\" >2</td>\n",
       "                        <td id=\"T_f754b3b2_87e2_11eb_af76_96000040dfb6row7_col1\" class=\"data row7 col1\" >$25194</td>\n",
       "            </tr>\n",
       "            <tr>\n",
       "                        <th id=\"T_f754b3b2_87e2_11eb_af76_96000040dfb6level0_row8\" class=\"row_heading level0 row8\" >Argentina</th>\n",
       "                        <th id=\"T_f754b3b2_87e2_11eb_af76_96000040dfb6level1_row8\" class=\"row_heading level1 row8\" >trial_premium</th>\n",
       "                        <td id=\"T_f754b3b2_87e2_11eb_af76_96000040dfb6row8_col0\" class=\"data row8 col0\" >1</td>\n",
       "                        <td id=\"T_f754b3b2_87e2_11eb_af76_96000040dfb6row8_col1\" class=\"data row8 col1\" >$13767</td>\n",
       "            </tr>\n",
       "    </tbody></table>"
      ],
      "text/plain": [
       "<pandas.io.formats.style.Styler at 0x7f8c34469d68>"
      ]
     },
     "execution_count": 62,
     "metadata": {},
     "output_type": "execute_result"
    }
   ],
   "source": [
    "transactions_test.query('revenue < 30000 and country in \\\n",
    "                        [\"Argentina\",\"France\",\"United States of America\",\"United Arab Emirates\"]\\\n",
    "                        & product_type in [\"trial_premium\",\"premium_no_trial\"]\\\n",
    "                        | country == \"Israel\" & product_type ==\"premium_no_trial\" ')\\\n",
    "                 .groupby(['country','product_type'])\\\n",
    "                 .agg({'uid':'count','revenue':'sum'})\\\n",
    "                 .sort_values(by='revenue',ascending=False)\\\n",
    "                 .style\\\n",
    "                 .bar(subset=['revenue'], color='red')\\\n",
    "                 .bar(subset=['uid'], color='grey')\\\n",
    "                 .format('${:.0f}', subset='revenue')"
   ]
  },
  {
   "cell_type": "markdown",
   "metadata": {},
   "source": [
    "- **интересная группа пользователей 70 чел с суммарной прибылью 810108 ед интересна тем, что при маленьком количестве пользователей**\n",
    " **(28% от числа пользователей в группе или 15% от всего количества платящих пользователей) аккумулирует 44% прибыли в своей группе** \n",
    " **(или 12% от суммарной прибыли (6803329.0 ед) всех платящих пользователей во всех группах с покупками до 30000 ед);**\n",
    " "
   ]
  },
  {
   "cell_type": "markdown",
   "metadata": {},
   "source": [
    ">**изучим эту группу подробнее**"
   ]
  },
  {
   "cell_type": "code",
   "execution_count": 63,
   "metadata": {},
   "outputs": [],
   "source": [
    "interesting_users = transactions_test.query('revenue < 30000 and country in \\\n",
    "                                      [\"Argentina\",\"France\",\"United States of America\",\"United Arab Emirates\"]\\\n",
    "                                      & product_type in [\"trial_premium\",\"premium_no_trial\"]\\\n",
    "                                      | country == \"Israel\" & product_type ==\"premium_no_trial\" ')\\\n",
    "                               .uid.unique().tolist()"
   ]
  },
  {
   "cell_type": "code",
   "execution_count": 64,
   "metadata": {},
   "outputs": [
    {
     "data": {
      "text/html": [
       "<style  type=\"text/css\" >\n",
       "#T_f754b3b3_87e2_11eb_af76_96000040dfb6row0_col0{\n",
       "            width:  10em;\n",
       "             height:  80%;\n",
       "            background:  linear-gradient(90deg,grey 31.3%, transparent 31.3%);\n",
       "        }#T_f754b3b3_87e2_11eb_af76_96000040dfb6row0_col2{\n",
       "            width:  10em;\n",
       "             height:  80%;\n",
       "            background:  linear-gradient(90deg,red 100.0%, transparent 100.0%);\n",
       "        }#T_f754b3b3_87e2_11eb_af76_96000040dfb6row1_col0{\n",
       "            width:  10em;\n",
       "             height:  80%;\n",
       "            background:  linear-gradient(90deg,grey 2.0%, transparent 2.0%);\n",
       "        }#T_f754b3b3_87e2_11eb_af76_96000040dfb6row1_col2{\n",
       "            width:  10em;\n",
       "             height:  80%;\n",
       "            background:  linear-gradient(90deg,red 23.5%, transparent 23.5%);\n",
       "        }#T_f754b3b3_87e2_11eb_af76_96000040dfb6row2_col0{\n",
       "            width:  10em;\n",
       "             height:  80%;\n",
       "            background:  linear-gradient(90deg,grey 32.2%, transparent 32.2%);\n",
       "        }#T_f754b3b3_87e2_11eb_af76_96000040dfb6row2_col2{\n",
       "            width:  10em;\n",
       "             height:  80%;\n",
       "            background:  linear-gradient(90deg,red 12.2%, transparent 12.2%);\n",
       "        }#T_f754b3b3_87e2_11eb_af76_96000040dfb6row3_col0{\n",
       "            width:  10em;\n",
       "             height:  80%;\n",
       "            background:  linear-gradient(90deg,grey 17.4%, transparent 17.4%);\n",
       "        }#T_f754b3b3_87e2_11eb_af76_96000040dfb6row3_col2{\n",
       "            width:  10em;\n",
       "             height:  80%;\n",
       "            background:  linear-gradient(90deg,red 29.8%, transparent 29.8%);\n",
       "        }#T_f754b3b3_87e2_11eb_af76_96000040dfb6row4_col0,#T_f754b3b3_87e2_11eb_af76_96000040dfb6row7_col0{\n",
       "            width:  10em;\n",
       "             height:  80%;\n",
       "            background:  linear-gradient(90deg,grey 1.2%, transparent 1.2%);\n",
       "        }#T_f754b3b3_87e2_11eb_af76_96000040dfb6row4_col2{\n",
       "            width:  10em;\n",
       "             height:  80%;\n",
       "            background:  linear-gradient(90deg,red 54.4%, transparent 54.4%);\n",
       "        }#T_f754b3b3_87e2_11eb_af76_96000040dfb6row5_col0{\n",
       "            width:  10em;\n",
       "             height:  80%;\n",
       "            background:  linear-gradient(90deg,grey 11.4%, transparent 11.4%);\n",
       "        }#T_f754b3b3_87e2_11eb_af76_96000040dfb6row5_col2{\n",
       "            width:  10em;\n",
       "             height:  80%;\n",
       "            background:  linear-gradient(90deg,red 5.1%, transparent 5.1%);\n",
       "        }#T_f754b3b3_87e2_11eb_af76_96000040dfb6row6_col0{\n",
       "            width:  10em;\n",
       "             height:  80%;\n",
       "            background:  linear-gradient(90deg,grey 3.0%, transparent 3.0%);\n",
       "        }#T_f754b3b3_87e2_11eb_af76_96000040dfb6row6_col2{\n",
       "            width:  10em;\n",
       "             height:  80%;\n",
       "            background:  linear-gradient(90deg,red 13.7%, transparent 13.7%);\n",
       "        }#T_f754b3b3_87e2_11eb_af76_96000040dfb6row7_col2,#T_f754b3b3_87e2_11eb_af76_96000040dfb6row13_col0{\n",
       "            width:  10em;\n",
       "             height:  80%;\n",
       "        }#T_f754b3b3_87e2_11eb_af76_96000040dfb6row8_col0{\n",
       "            width:  10em;\n",
       "             height:  80%;\n",
       "            background:  linear-gradient(90deg,grey 11.0%, transparent 11.0%);\n",
       "        }#T_f754b3b3_87e2_11eb_af76_96000040dfb6row8_col2{\n",
       "            width:  10em;\n",
       "             height:  80%;\n",
       "            background:  linear-gradient(90deg,red 22.3%, transparent 22.3%);\n",
       "        }#T_f754b3b3_87e2_11eb_af76_96000040dfb6row9_col0{\n",
       "            width:  10em;\n",
       "             height:  80%;\n",
       "            background:  linear-gradient(90deg,grey 10.5%, transparent 10.5%);\n",
       "        }#T_f754b3b3_87e2_11eb_af76_96000040dfb6row9_col2{\n",
       "            width:  10em;\n",
       "             height:  80%;\n",
       "            background:  linear-gradient(90deg,red 30.8%, transparent 30.8%);\n",
       "        }#T_f754b3b3_87e2_11eb_af76_96000040dfb6row10_col0{\n",
       "            width:  10em;\n",
       "             height:  80%;\n",
       "            background:  linear-gradient(90deg,grey 100.0%, transparent 100.0%);\n",
       "        }#T_f754b3b3_87e2_11eb_af76_96000040dfb6row10_col2{\n",
       "            width:  10em;\n",
       "             height:  80%;\n",
       "            background:  linear-gradient(90deg,red 19.4%, transparent 19.4%);\n",
       "        }#T_f754b3b3_87e2_11eb_af76_96000040dfb6row11_col0{\n",
       "            width:  10em;\n",
       "             height:  80%;\n",
       "            background:  linear-gradient(90deg,grey 59.2%, transparent 59.2%);\n",
       "        }#T_f754b3b3_87e2_11eb_af76_96000040dfb6row11_col2{\n",
       "            width:  10em;\n",
       "             height:  80%;\n",
       "            background:  linear-gradient(90deg,red 13.2%, transparent 13.2%);\n",
       "        }#T_f754b3b3_87e2_11eb_af76_96000040dfb6row12_col0{\n",
       "            width:  10em;\n",
       "             height:  80%;\n",
       "            background:  linear-gradient(90deg,grey 26.6%, transparent 26.6%);\n",
       "        }#T_f754b3b3_87e2_11eb_af76_96000040dfb6row12_col2{\n",
       "            width:  10em;\n",
       "             height:  80%;\n",
       "            background:  linear-gradient(90deg,red 27.4%, transparent 27.4%);\n",
       "        }#T_f754b3b3_87e2_11eb_af76_96000040dfb6row13_col2{\n",
       "            width:  10em;\n",
       "             height:  80%;\n",
       "            background:  linear-gradient(90deg,red 38.0%, transparent 38.0%);\n",
       "        }</style><table id=\"T_f754b3b3_87e2_11eb_af76_96000040dfb6\" ><thead>    <tr>        <th class=\"blank\" ></th>        <th class=\"blank level0\" ></th>        <th class=\"col_heading level0 col0\" >total_revenue</th>        <th class=\"col_heading level0 col1\" >number_purchase</th>        <th class=\"col_heading level0 col2\" >avg_check</th>    </tr>    <tr>        <th class=\"index_name level0\" >country</th>        <th class=\"index_name level1\" >age_group</th>        <th class=\"blank\" ></th>        <th class=\"blank\" ></th>        <th class=\"blank\" ></th>    </tr></thead><tbody>\n",
       "                <tr>\n",
       "                        <th id=\"T_f754b3b3_87e2_11eb_af76_96000040dfb6level0_row0\" class=\"row_heading level0 row0\" rowspan=2>Argentina</th>\n",
       "                        <th id=\"T_f754b3b3_87e2_11eb_af76_96000040dfb6level1_row0\" class=\"row_heading level1 row0\" >30-40</th>\n",
       "                        <td id=\"T_f754b3b3_87e2_11eb_af76_96000040dfb6row0_col0\" class=\"data row0 col0\" >$107341</td>\n",
       "                        <td id=\"T_f754b3b3_87e2_11eb_af76_96000040dfb6row0_col1\" class=\"data row0 col1\" >4</td>\n",
       "                        <td id=\"T_f754b3b3_87e2_11eb_af76_96000040dfb6row0_col2\" class=\"data row0 col2\" >$26835</td>\n",
       "            </tr>\n",
       "            <tr>\n",
       "                                <th id=\"T_f754b3b3_87e2_11eb_af76_96000040dfb6level1_row1\" class=\"row_heading level1 row1\" >40-50</th>\n",
       "                        <td id=\"T_f754b3b3_87e2_11eb_af76_96000040dfb6row1_col0\" class=\"data row1 col0\" >$18889</td>\n",
       "                        <td id=\"T_f754b3b3_87e2_11eb_af76_96000040dfb6row1_col1\" class=\"data row1 col1\" >2</td>\n",
       "                        <td id=\"T_f754b3b3_87e2_11eb_af76_96000040dfb6row1_col2\" class=\"data row1 col2\" >$9444</td>\n",
       "            </tr>\n",
       "            <tr>\n",
       "                        <th id=\"T_f754b3b3_87e2_11eb_af76_96000040dfb6level0_row2\" class=\"row_heading level0 row2\" rowspan=4>France</th>\n",
       "                        <th id=\"T_f754b3b3_87e2_11eb_af76_96000040dfb6level1_row2\" class=\"row_heading level1 row2\" >18-29</th>\n",
       "                        <td id=\"T_f754b3b3_87e2_11eb_af76_96000040dfb6row2_col0\" class=\"data row2 col0\" >$109811</td>\n",
       "                        <td id=\"T_f754b3b3_87e2_11eb_af76_96000040dfb6row2_col1\" class=\"data row2 col1\" >16</td>\n",
       "                        <td id=\"T_f754b3b3_87e2_11eb_af76_96000040dfb6row2_col2\" class=\"data row2 col2\" >$6863</td>\n",
       "            </tr>\n",
       "            <tr>\n",
       "                                <th id=\"T_f754b3b3_87e2_11eb_af76_96000040dfb6level1_row3\" class=\"row_heading level1 row3\" >30-40</th>\n",
       "                        <td id=\"T_f754b3b3_87e2_11eb_af76_96000040dfb6row3_col0\" class=\"data row3 col0\" >$65208</td>\n",
       "                        <td id=\"T_f754b3b3_87e2_11eb_af76_96000040dfb6row3_col1\" class=\"data row3 col1\" >6</td>\n",
       "                        <td id=\"T_f754b3b3_87e2_11eb_af76_96000040dfb6row3_col2\" class=\"data row3 col2\" >$10868</td>\n",
       "            </tr>\n",
       "            <tr>\n",
       "                                <th id=\"T_f754b3b3_87e2_11eb_af76_96000040dfb6level1_row4\" class=\"row_heading level1 row4\" >40-50</th>\n",
       "                        <td id=\"T_f754b3b3_87e2_11eb_af76_96000040dfb6row4_col0\" class=\"data row4 col0\" >$16471</td>\n",
       "                        <td id=\"T_f754b3b3_87e2_11eb_af76_96000040dfb6row4_col1\" class=\"data row4 col1\" >1</td>\n",
       "                        <td id=\"T_f754b3b3_87e2_11eb_af76_96000040dfb6row4_col2\" class=\"data row4 col2\" >$16471</td>\n",
       "            </tr>\n",
       "            <tr>\n",
       "                                <th id=\"T_f754b3b3_87e2_11eb_af76_96000040dfb6level1_row5\" class=\"row_heading level1 row5\" >50+</th>\n",
       "                        <td id=\"T_f754b3b3_87e2_11eb_af76_96000040dfb6row5_col0\" class=\"data row5 col0\" >$47242</td>\n",
       "                        <td id=\"T_f754b3b3_87e2_11eb_af76_96000040dfb6row5_col1\" class=\"data row5 col1\" >9</td>\n",
       "                        <td id=\"T_f754b3b3_87e2_11eb_af76_96000040dfb6row5_col2\" class=\"data row5 col2\" >$5249</td>\n",
       "            </tr>\n",
       "            <tr>\n",
       "                        <th id=\"T_f754b3b3_87e2_11eb_af76_96000040dfb6level0_row6\" class=\"row_heading level0 row6\" rowspan=2>Israel</th>\n",
       "                        <th id=\"T_f754b3b3_87e2_11eb_af76_96000040dfb6level1_row6\" class=\"row_heading level1 row6\" >18-29</th>\n",
       "                        <td id=\"T_f754b3b3_87e2_11eb_af76_96000040dfb6row6_col0\" class=\"data row6 col0\" >$21645</td>\n",
       "                        <td id=\"T_f754b3b3_87e2_11eb_af76_96000040dfb6row6_col1\" class=\"data row6 col1\" >3</td>\n",
       "                        <td id=\"T_f754b3b3_87e2_11eb_af76_96000040dfb6row6_col2\" class=\"data row6 col2\" >$7215</td>\n",
       "            </tr>\n",
       "            <tr>\n",
       "                                <th id=\"T_f754b3b3_87e2_11eb_af76_96000040dfb6level1_row7\" class=\"row_heading level1 row7\" >50+</th>\n",
       "                        <td id=\"T_f754b3b3_87e2_11eb_af76_96000040dfb6row7_col0\" class=\"data row7 col0\" >$16380</td>\n",
       "                        <td id=\"T_f754b3b3_87e2_11eb_af76_96000040dfb6row7_col1\" class=\"data row7 col1\" >4</td>\n",
       "                        <td id=\"T_f754b3b3_87e2_11eb_af76_96000040dfb6row7_col2\" class=\"data row7 col2\" >$4095</td>\n",
       "            </tr>\n",
       "            <tr>\n",
       "                        <th id=\"T_f754b3b3_87e2_11eb_af76_96000040dfb6level0_row8\" class=\"row_heading level0 row8\" rowspan=2>United Arab Emirates</th>\n",
       "                        <th id=\"T_f754b3b3_87e2_11eb_af76_96000040dfb6level1_row8\" class=\"row_heading level1 row8\" >18-29</th>\n",
       "                        <td id=\"T_f754b3b3_87e2_11eb_af76_96000040dfb6row8_col0\" class=\"data row8 col0\" >$45812</td>\n",
       "                        <td id=\"T_f754b3b3_87e2_11eb_af76_96000040dfb6row8_col1\" class=\"data row8 col1\" >5</td>\n",
       "                        <td id=\"T_f754b3b3_87e2_11eb_af76_96000040dfb6row8_col2\" class=\"data row8 col2\" >$9162</td>\n",
       "            </tr>\n",
       "            <tr>\n",
       "                                <th id=\"T_f754b3b3_87e2_11eb_af76_96000040dfb6level1_row9\" class=\"row_heading level1 row9\" >30-40</th>\n",
       "                        <td id=\"T_f754b3b3_87e2_11eb_af76_96000040dfb6row9_col0\" class=\"data row9 col0\" >$44408</td>\n",
       "                        <td id=\"T_f754b3b3_87e2_11eb_af76_96000040dfb6row9_col1\" class=\"data row9 col1\" >4</td>\n",
       "                        <td id=\"T_f754b3b3_87e2_11eb_af76_96000040dfb6row9_col2\" class=\"data row9 col2\" >$11102</td>\n",
       "            </tr>\n",
       "            <tr>\n",
       "                        <th id=\"T_f754b3b3_87e2_11eb_af76_96000040dfb6level0_row10\" class=\"row_heading level0 row10\" rowspan=4>United States of America</th>\n",
       "                        <th id=\"T_f754b3b3_87e2_11eb_af76_96000040dfb6level1_row10\" class=\"row_heading level1 row10\" >18-29</th>\n",
       "                        <td id=\"T_f754b3b3_87e2_11eb_af76_96000040dfb6row10_col0\" class=\"data row10 col0\" >$314652</td>\n",
       "                        <td id=\"T_f754b3b3_87e2_11eb_af76_96000040dfb6row10_col1\" class=\"data row10 col1\" >37</td>\n",
       "                        <td id=\"T_f754b3b3_87e2_11eb_af76_96000040dfb6row10_col2\" class=\"data row10 col2\" >$8504</td>\n",
       "            </tr>\n",
       "            <tr>\n",
       "                                <th id=\"T_f754b3b3_87e2_11eb_af76_96000040dfb6level1_row11\" class=\"row_heading level1 row11\" >30-40</th>\n",
       "                        <td id=\"T_f754b3b3_87e2_11eb_af76_96000040dfb6row11_col0\" class=\"data row11 col0\" >$191412</td>\n",
       "                        <td id=\"T_f754b3b3_87e2_11eb_af76_96000040dfb6row11_col1\" class=\"data row11 col1\" >27</td>\n",
       "                        <td id=\"T_f754b3b3_87e2_11eb_af76_96000040dfb6row11_col2\" class=\"data row11 col2\" >$7089</td>\n",
       "            </tr>\n",
       "            <tr>\n",
       "                                <th id=\"T_f754b3b3_87e2_11eb_af76_96000040dfb6level1_row12\" class=\"row_heading level1 row12\" >40-50</th>\n",
       "                        <td id=\"T_f754b3b3_87e2_11eb_af76_96000040dfb6row12_col0\" class=\"data row12 col0\" >$93028</td>\n",
       "                        <td id=\"T_f754b3b3_87e2_11eb_af76_96000040dfb6row12_col1\" class=\"data row12 col1\" >9</td>\n",
       "                        <td id=\"T_f754b3b3_87e2_11eb_af76_96000040dfb6row12_col2\" class=\"data row12 col2\" >$10336</td>\n",
       "            </tr>\n",
       "            <tr>\n",
       "                                <th id=\"T_f754b3b3_87e2_11eb_af76_96000040dfb6level1_row13\" class=\"row_heading level1 row13\" >50+</th>\n",
       "                        <td id=\"T_f754b3b3_87e2_11eb_af76_96000040dfb6row13_col0\" class=\"data row13 col0\" >$12727</td>\n",
       "                        <td id=\"T_f754b3b3_87e2_11eb_af76_96000040dfb6row13_col1\" class=\"data row13 col1\" >1</td>\n",
       "                        <td id=\"T_f754b3b3_87e2_11eb_af76_96000040dfb6row13_col2\" class=\"data row13 col2\" >$12727</td>\n",
       "            </tr>\n",
       "    </tbody></table>"
      ],
      "text/plain": [
       "<pandas.io.formats.style.Styler at 0x7f8c3406b470>"
      ]
     },
     "execution_count": 64,
     "metadata": {},
     "output_type": "execute_result"
    }
   ],
   "source": [
    "# соберем всех user'ов \n",
    "union_df = union_test.append(union_control_1).append(union_control_2)\n",
    "# и посмотрим интересующую нас группу\n",
    "final_users_df = union_df.query('uid in @interesting_users')\n",
    "#  разделим на возрастные группы\n",
    "final_users_df['age_group'] = pd.cut(final_users_df.age,bins=[18,30,40,50,100],labels=['18-29','30-40','40-50','50+'])\n",
    "final_users_df = final_users_df.drop('visit_days',axis=1).groupby(['country','age_group'])\\\n",
    "                               .agg({'total_revenue':'sum','number_purchase':'sum'})\\\n",
    "                               .dropna(0)\n",
    "final_users_df['avg_check'] = round(final_users_df.total_revenue.div(final_users_df.number_purchase))\n",
    "\n",
    "final_users_df.style\\\n",
    "                 .bar(subset=['total_revenue'], color='grey')\\\n",
    "                 .bar(subset=['avg_check'], color='red')\\\n",
    "                 .format('${:.0f}', subset=['total_revenue','avg_check'])\\\n",
    "                 .format('{:.0f}', subset=['number_purchase'])"
   ]
  },
  {
   "cell_type": "code",
   "execution_count": null,
   "metadata": {},
   "outputs": [],
   "source": []
  },
  {
   "cell_type": "markdown",
   "metadata": {},
   "source": [
    "\n",
    " - **по итогам видим рост ARPPU и среднего чека у пользователей из  США, Аргентины, Франции, ОАЭ, Израиль, Италия) использующих подписки - trial_premium или premium_no_trial;**\n",
    " - **Почти все пользователи одной гендерной группы (не хочу обвинений в сексизме - кто '0' не знаю :-);**\n",
    " - **Наибольшее количество покупок и набольшая суммарная прибыль у пользователей из США, там же больше всего отказов от premium;**\n",
    " - **Самые дорогие покупки (стоимостью до 30000) совершали в Аргентине, там же лидер группы по coins;**\n",
    " - **Во Франции и США нововведения происходили во всех возрастных категориях;**\n",
    " - ## Есть клиент 99 лет!! Респект дедушке!!##\n",
    " \n",
    " "
   ]
  },
  {
   "cell_type": "markdown",
   "metadata": {},
   "source": [
    ">**проверим динамику конверсии в статус Premium**"
   ]
  },
  {
   "cell_type": "code",
   "execution_count": 65,
   "metadata": {},
   "outputs": [
    {
     "data": {
      "text/html": [
       "<style  type=\"text/css\" >\n",
       "</style><table id=\"T_f754b3b4_87e2_11eb_af76_96000040dfb6\" ><thead>    <tr>        <th class=\"blank level0\" ></th>        <th class=\"col_heading level0 col0\" >uid</th>        <th class=\"col_heading level0 col1\" >age</th>        <th class=\"col_heading level0 col2\" >attraction_coeff</th>        <th class=\"col_heading level0 col3\" >coins</th>        <th class=\"col_heading level0 col4\" >country</th>        <th class=\"col_heading level0 col5\" >was_premium</th>        <th class=\"col_heading level0 col6\" >is_premium</th>        <th class=\"col_heading level0 col7\" >total_revenue</th>    </tr></thead><tbody>\n",
       "                <tr>\n",
       "                        <th id=\"T_f754b3b4_87e2_11eb_af76_96000040dfb6level0_row0\" class=\"row_heading level0 row0\" >1196</th>\n",
       "                        <td id=\"T_f754b3b4_87e2_11eb_af76_96000040dfb6row0_col0\" class=\"data row0 col0\" >892347657</td>\n",
       "                        <td id=\"T_f754b3b4_87e2_11eb_af76_96000040dfb6row0_col1\" class=\"data row0 col1\" >49</td>\n",
       "                        <td id=\"T_f754b3b4_87e2_11eb_af76_96000040dfb6row0_col2\" class=\"data row0 col2\" >197</td>\n",
       "                        <td id=\"T_f754b3b4_87e2_11eb_af76_96000040dfb6row0_col3\" class=\"data row0 col3\" >0</td>\n",
       "                        <td id=\"T_f754b3b4_87e2_11eb_af76_96000040dfb6row0_col4\" class=\"data row0 col4\" >Argentina</td>\n",
       "                        <td id=\"T_f754b3b4_87e2_11eb_af76_96000040dfb6row0_col5\" class=\"data row0 col5\" >1</td>\n",
       "                        <td id=\"T_f754b3b4_87e2_11eb_af76_96000040dfb6row0_col6\" class=\"data row0 col6\" >0</td>\n",
       "                        <td id=\"T_f754b3b4_87e2_11eb_af76_96000040dfb6row0_col7\" class=\"data row0 col7\" >$12597.00</td>\n",
       "            </tr>\n",
       "            <tr>\n",
       "                        <th id=\"T_f754b3b4_87e2_11eb_af76_96000040dfb6level0_row1\" class=\"row_heading level0 row1\" >1353</th>\n",
       "                        <td id=\"T_f754b3b4_87e2_11eb_af76_96000040dfb6row1_col0\" class=\"data row1 col0\" >892264422</td>\n",
       "                        <td id=\"T_f754b3b4_87e2_11eb_af76_96000040dfb6row1_col1\" class=\"data row1 col1\" >26</td>\n",
       "                        <td id=\"T_f754b3b4_87e2_11eb_af76_96000040dfb6row1_col2\" class=\"data row1 col2\" >262</td>\n",
       "                        <td id=\"T_f754b3b4_87e2_11eb_af76_96000040dfb6row1_col3\" class=\"data row1 col3\" >0</td>\n",
       "                        <td id=\"T_f754b3b4_87e2_11eb_af76_96000040dfb6row1_col4\" class=\"data row1 col4\" >United States of America</td>\n",
       "                        <td id=\"T_f754b3b4_87e2_11eb_af76_96000040dfb6row1_col5\" class=\"data row1 col5\" >1</td>\n",
       "                        <td id=\"T_f754b3b4_87e2_11eb_af76_96000040dfb6row1_col6\" class=\"data row1 col6\" >0</td>\n",
       "                        <td id=\"T_f754b3b4_87e2_11eb_af76_96000040dfb6row1_col7\" class=\"data row1 col7\" >$11609.00</td>\n",
       "            </tr>\n",
       "            <tr>\n",
       "                        <th id=\"T_f754b3b4_87e2_11eb_af76_96000040dfb6level0_row2\" class=\"row_heading level0 row2\" >2309</th>\n",
       "                        <td id=\"T_f754b3b4_87e2_11eb_af76_96000040dfb6row2_col0\" class=\"data row2 col0\" >892370097</td>\n",
       "                        <td id=\"T_f754b3b4_87e2_11eb_af76_96000040dfb6row2_col1\" class=\"data row2 col1\" >48</td>\n",
       "                        <td id=\"T_f754b3b4_87e2_11eb_af76_96000040dfb6row2_col2\" class=\"data row2 col2\" >197</td>\n",
       "                        <td id=\"T_f754b3b4_87e2_11eb_af76_96000040dfb6row2_col3\" class=\"data row2 col3\" >0</td>\n",
       "                        <td id=\"T_f754b3b4_87e2_11eb_af76_96000040dfb6row2_col4\" class=\"data row2 col4\" >United States of America</td>\n",
       "                        <td id=\"T_f754b3b4_87e2_11eb_af76_96000040dfb6row2_col5\" class=\"data row2 col5\" >1</td>\n",
       "                        <td id=\"T_f754b3b4_87e2_11eb_af76_96000040dfb6row2_col6\" class=\"data row2 col6\" >0</td>\n",
       "                        <td id=\"T_f754b3b4_87e2_11eb_af76_96000040dfb6row2_col7\" class=\"data row2 col7\" >$11115.00</td>\n",
       "            </tr>\n",
       "            <tr>\n",
       "                        <th id=\"T_f754b3b4_87e2_11eb_af76_96000040dfb6level0_row3\" class=\"row_heading level0 row3\" >2730</th>\n",
       "                        <td id=\"T_f754b3b4_87e2_11eb_af76_96000040dfb6row3_col0\" class=\"data row3 col0\" >892426491</td>\n",
       "                        <td id=\"T_f754b3b4_87e2_11eb_af76_96000040dfb6row3_col1\" class=\"data row3 col1\" >48</td>\n",
       "                        <td id=\"T_f754b3b4_87e2_11eb_af76_96000040dfb6row3_col2\" class=\"data row3 col2\" >625</td>\n",
       "                        <td id=\"T_f754b3b4_87e2_11eb_af76_96000040dfb6row3_col3\" class=\"data row3 col3\" >0</td>\n",
       "                        <td id=\"T_f754b3b4_87e2_11eb_af76_96000040dfb6row3_col4\" class=\"data row3 col4\" >United States of America</td>\n",
       "                        <td id=\"T_f754b3b4_87e2_11eb_af76_96000040dfb6row3_col5\" class=\"data row3 col5\" >1</td>\n",
       "                        <td id=\"T_f754b3b4_87e2_11eb_af76_96000040dfb6row3_col6\" class=\"data row3 col6\" >0</td>\n",
       "                        <td id=\"T_f754b3b4_87e2_11eb_af76_96000040dfb6row3_col7\" class=\"data row3 col7\" >$12597.00</td>\n",
       "            </tr>\n",
       "    </tbody></table>"
      ],
      "text/plain": [
       "<pandas.io.formats.style.Styler at 0x7f8c2ff84080>"
      ]
     },
     "execution_count": 65,
     "metadata": {},
     "output_type": "execute_result"
    }
   ],
   "source": [
    "users_test[['uid','age','attraction_coeff','coins','country','was_premium','is_premium','total_revenue']]\\\n",
    "                                .query('uid in @interesting_users & was_premium != is_premium')\\\n",
    "                                .style.format('${:.2f}', subset=['total_revenue'])\\\n",
    "                                .format('{:.0f}', subset=['was_premium','is_premium','coins'])"
   ]
  },
  {
   "cell_type": "code",
   "execution_count": 66,
   "metadata": {},
   "outputs": [],
   "source": [
    "total_users = users_test.append(users_control_1.append(users_control_2))\\\n",
    "[['uid','age','attraction_coeff','coins','country','was_premium','is_premium','total_revenue']]"
   ]
  },
  {
   "cell_type": "code",
   "execution_count": 67,
   "metadata": {},
   "outputs": [
    {
     "data": {
      "text/plain": [
       "-715.0"
      ]
     },
     "execution_count": 67,
     "metadata": {},
     "output_type": "execute_result"
    }
   ],
   "source": [
    "-total_users.query('was_premium == 1 & is_premium == 0').was_premium.sum()"
   ]
  },
  {
   "cell_type": "code",
   "execution_count": 68,
   "metadata": {},
   "outputs": [
    {
     "data": {
      "text/plain": [
       "-65.0"
      ]
     },
     "execution_count": 68,
     "metadata": {},
     "output_type": "execute_result"
    }
   ],
   "source": [
    "-total_users.query('was_premium == 1 & is_premium == 0').query('total_revenue > 0').was_premium.sum()"
   ]
  },
  {
   "cell_type": "markdown",
   "metadata": {},
   "source": [
    "\n",
    "- **в целом изменения затронули относительно небольшую, но готовую платить группу, проживающих в 5-6 странах. Возможно это связано с**   **особенностями рекламных компаний или  популярностью самого агенства в данных локациях.  Возможно наша компания зарегестрирована в США ...**\n",
    "- **При этом не видно(!) конверсии в premium  как в группе, так и в целом (есть небольшой отток :  4 чел).**\n",
    "**Количество пользователей ушедших из premium за год по всем группам: 715 чел. При этом \"платящих\" из них всего 65 чел. Т.е мы не можем ни привлечь \"новых\", ни удержать \"старых\"...**\n"
   ]
  },
  {
   "cell_type": "markdown",
   "metadata": {},
   "source": [
    "#### посмотрим внимательнее на все транзакции:"
   ]
  },
  {
   "cell_type": "code",
   "execution_count": 69,
   "metadata": {},
   "outputs": [],
   "source": [
    "total_transactions = transactions_test.append(transactions_control_1.append(transactions_control_2)) \n",
    "total_transactions.paid_at = total_transactions.paid_at.astype('str')\n",
    "total_transactions.paid_at = total_transactions.paid_at.apply(lambda x: datetime.strptime(x,\"%Y-%m-%d %H:%M:%S\"))"
   ]
  },
  {
   "cell_type": "code",
   "execution_count": 70,
   "metadata": {},
   "outputs": [
    {
     "data": {
      "text/html": [
       "<style  type=\"text/css\" >\n",
       "#T_f754b3b5_87e2_11eb_af76_96000040dfb6row0_col1{\n",
       "            background-color:  #ffffff;\n",
       "            color:  #000000;\n",
       "        }#T_f754b3b5_87e2_11eb_af76_96000040dfb6row1_col1{\n",
       "            background-color:  #f9f9f9;\n",
       "            color:  #000000;\n",
       "        }#T_f754b3b5_87e2_11eb_af76_96000040dfb6row2_col1,#T_f754b3b5_87e2_11eb_af76_96000040dfb6row12_col1{\n",
       "            background-color:  #efefef;\n",
       "            color:  #000000;\n",
       "        }#T_f754b3b5_87e2_11eb_af76_96000040dfb6row3_col1{\n",
       "            background-color:  #f2f2f2;\n",
       "            color:  #000000;\n",
       "        }#T_f754b3b5_87e2_11eb_af76_96000040dfb6row4_col1,#T_f754b3b5_87e2_11eb_af76_96000040dfb6row9_col1{\n",
       "            background-color:  #ededed;\n",
       "            color:  #000000;\n",
       "        }#T_f754b3b5_87e2_11eb_af76_96000040dfb6row5_col1{\n",
       "            background-color:  #e9e9e9;\n",
       "            color:  #000000;\n",
       "        }#T_f754b3b5_87e2_11eb_af76_96000040dfb6row6_col1{\n",
       "            background-color:  #ececec;\n",
       "            color:  #000000;\n",
       "        }#T_f754b3b5_87e2_11eb_af76_96000040dfb6row7_col1{\n",
       "            background-color:  #eeeeee;\n",
       "            color:  #000000;\n",
       "        }#T_f754b3b5_87e2_11eb_af76_96000040dfb6row8_col1{\n",
       "            background-color:  #f3f3f3;\n",
       "            color:  #000000;\n",
       "        }#T_f754b3b5_87e2_11eb_af76_96000040dfb6row10_col1{\n",
       "            background-color:  #000000;\n",
       "            color:  #f1f1f1;\n",
       "        }#T_f754b3b5_87e2_11eb_af76_96000040dfb6row11_col1{\n",
       "            background-color:  #d2d2d2;\n",
       "            color:  #000000;\n",
       "        }</style><table id=\"T_f754b3b5_87e2_11eb_af76_96000040dfb6\" ><thead>    <tr>        <th class=\"blank level0\" ></th>        <th class=\"col_heading level0 col0\" >paid_period</th>        <th class=\"col_heading level0 col1\" >revenue</th>    </tr></thead><tbody>\n",
       "                <tr>\n",
       "                        <th id=\"T_f754b3b5_87e2_11eb_af76_96000040dfb6level0_row0\" class=\"row_heading level0 row0\" >0</th>\n",
       "                        <td id=\"T_f754b3b5_87e2_11eb_af76_96000040dfb6row0_col0\" class=\"data row0 col0\" >2016-12-31 00:00:00</td>\n",
       "                        <td id=\"T_f754b3b5_87e2_11eb_af76_96000040dfb6row0_col1\" class=\"data row0 col1\" >$806.0</td>\n",
       "            </tr>\n",
       "            <tr>\n",
       "                        <th id=\"T_f754b3b5_87e2_11eb_af76_96000040dfb6level0_row1\" class=\"row_heading level0 row1\" >1</th>\n",
       "                        <td id=\"T_f754b3b5_87e2_11eb_af76_96000040dfb6row1_col0\" class=\"data row1 col0\" >2017-01-31 00:00:00</td>\n",
       "                        <td id=\"T_f754b3b5_87e2_11eb_af76_96000040dfb6row1_col1\" class=\"data row1 col1\" >$91221.0</td>\n",
       "            </tr>\n",
       "            <tr>\n",
       "                        <th id=\"T_f754b3b5_87e2_11eb_af76_96000040dfb6level0_row2\" class=\"row_heading level0 row2\" >2</th>\n",
       "                        <td id=\"T_f754b3b5_87e2_11eb_af76_96000040dfb6row2_col0\" class=\"data row2 col0\" >2017-02-28 00:00:00</td>\n",
       "                        <td id=\"T_f754b3b5_87e2_11eb_af76_96000040dfb6row2_col1\" class=\"data row2 col1\" >$239460.0</td>\n",
       "            </tr>\n",
       "            <tr>\n",
       "                        <th id=\"T_f754b3b5_87e2_11eb_af76_96000040dfb6level0_row3\" class=\"row_heading level0 row3\" >3</th>\n",
       "                        <td id=\"T_f754b3b5_87e2_11eb_af76_96000040dfb6row3_col0\" class=\"data row3 col0\" >2017-03-31 00:00:00</td>\n",
       "                        <td id=\"T_f754b3b5_87e2_11eb_af76_96000040dfb6row3_col1\" class=\"data row3 col1\" >$191321.0</td>\n",
       "            </tr>\n",
       "            <tr>\n",
       "                        <th id=\"T_f754b3b5_87e2_11eb_af76_96000040dfb6level0_row4\" class=\"row_heading level0 row4\" >4</th>\n",
       "                        <td id=\"T_f754b3b5_87e2_11eb_af76_96000040dfb6row4_col0\" class=\"data row4 col0\" >2017-04-30 00:00:00</td>\n",
       "                        <td id=\"T_f754b3b5_87e2_11eb_af76_96000040dfb6row4_col1\" class=\"data row4 col1\" >$264914.0</td>\n",
       "            </tr>\n",
       "            <tr>\n",
       "                        <th id=\"T_f754b3b5_87e2_11eb_af76_96000040dfb6level0_row5\" class=\"row_heading level0 row5\" >5</th>\n",
       "                        <td id=\"T_f754b3b5_87e2_11eb_af76_96000040dfb6row5_col0\" class=\"data row5 col0\" >2017-05-31 00:00:00</td>\n",
       "                        <td id=\"T_f754b3b5_87e2_11eb_af76_96000040dfb6row5_col1\" class=\"data row5 col1\" >$333073.0</td>\n",
       "            </tr>\n",
       "            <tr>\n",
       "                        <th id=\"T_f754b3b5_87e2_11eb_af76_96000040dfb6level0_row6\" class=\"row_heading level0 row6\" >6</th>\n",
       "                        <td id=\"T_f754b3b5_87e2_11eb_af76_96000040dfb6row6_col0\" class=\"data row6 col0\" >2017-06-30 00:00:00</td>\n",
       "                        <td id=\"T_f754b3b5_87e2_11eb_af76_96000040dfb6row6_col1\" class=\"data row6 col1\" >$280826.0</td>\n",
       "            </tr>\n",
       "            <tr>\n",
       "                        <th id=\"T_f754b3b5_87e2_11eb_af76_96000040dfb6level0_row7\" class=\"row_heading level0 row7\" >7</th>\n",
       "                        <td id=\"T_f754b3b5_87e2_11eb_af76_96000040dfb6row7_col0\" class=\"data row7 col0\" >2017-07-31 00:00:00</td>\n",
       "                        <td id=\"T_f754b3b5_87e2_11eb_af76_96000040dfb6row7_col1\" class=\"data row7 col1\" >$259428.0</td>\n",
       "            </tr>\n",
       "            <tr>\n",
       "                        <th id=\"T_f754b3b5_87e2_11eb_af76_96000040dfb6level0_row8\" class=\"row_heading level0 row8\" >8</th>\n",
       "                        <td id=\"T_f754b3b5_87e2_11eb_af76_96000040dfb6row8_col0\" class=\"data row8 col0\" >2017-08-31 00:00:00</td>\n",
       "                        <td id=\"T_f754b3b5_87e2_11eb_af76_96000040dfb6row8_col1\" class=\"data row8 col1\" >$180804.0</td>\n",
       "            </tr>\n",
       "            <tr>\n",
       "                        <th id=\"T_f754b3b5_87e2_11eb_af76_96000040dfb6level0_row9\" class=\"row_heading level0 row9\" >9</th>\n",
       "                        <td id=\"T_f754b3b5_87e2_11eb_af76_96000040dfb6row9_col0\" class=\"data row9 col0\" >2017-09-30 00:00:00</td>\n",
       "                        <td id=\"T_f754b3b5_87e2_11eb_af76_96000040dfb6row9_col1\" class=\"data row9 col1\" >$270088.0</td>\n",
       "            </tr>\n",
       "            <tr>\n",
       "                        <th id=\"T_f754b3b5_87e2_11eb_af76_96000040dfb6level0_row10\" class=\"row_heading level0 row10\" >10</th>\n",
       "                        <td id=\"T_f754b3b5_87e2_11eb_af76_96000040dfb6row10_col0\" class=\"data row10 col0\" >2017-10-31 00:00:00</td>\n",
       "                        <td id=\"T_f754b3b5_87e2_11eb_af76_96000040dfb6row10_col1\" class=\"data row10 col1\" >$3747666.0</td>\n",
       "            </tr>\n",
       "            <tr>\n",
       "                        <th id=\"T_f754b3b5_87e2_11eb_af76_96000040dfb6level0_row11\" class=\"row_heading level0 row11\" >11</th>\n",
       "                        <td id=\"T_f754b3b5_87e2_11eb_af76_96000040dfb6row11_col0\" class=\"data row11 col0\" >2017-11-30 00:00:00</td>\n",
       "                        <td id=\"T_f754b3b5_87e2_11eb_af76_96000040dfb6row11_col1\" class=\"data row11 col1\" >$662077.0</td>\n",
       "            </tr>\n",
       "            <tr>\n",
       "                        <th id=\"T_f754b3b5_87e2_11eb_af76_96000040dfb6level0_row12\" class=\"row_heading level0 row12\" >12</th>\n",
       "                        <td id=\"T_f754b3b5_87e2_11eb_af76_96000040dfb6row12_col0\" class=\"data row12 col0\" >2017-12-31 00:00:00</td>\n",
       "                        <td id=\"T_f754b3b5_87e2_11eb_af76_96000040dfb6row12_col1\" class=\"data row12 col1\" >$238459.0</td>\n",
       "            </tr>\n",
       "    </tbody></table>"
      ],
      "text/plain": [
       "<pandas.io.formats.style.Styler at 0x7f8c3546d518>"
      ]
     },
     "execution_count": 70,
     "metadata": {},
     "output_type": "execute_result"
    }
   ],
   "source": [
    "date_transactions = total_transactions.set_index('paid_at')\n",
    "date_transactions.revenue.resample('m', level=0).sum().reset_index().rename(columns={'paid_at':'paid_period'})\\\n",
    ".style.format('${:.1f}', subset=['revenue'])\\\n",
    ".background_gradient(subset=['revenue'], cmap='gist_yarg')"
   ]
  },
  {
   "cell_type": "markdown",
   "metadata": {},
   "source": [
    "- **на графике видим всплеск ~ с 2017-10-15 по 2017-11-15**"
   ]
  },
  {
   "cell_type": "code",
   "execution_count": 106,
   "metadata": {},
   "outputs": [
    {
     "data": {
      "image/png": "[encoded data removed]",
      "text/plain": [
       "<Figure size 4000x600 with 1 Axes>"
      ]
     },
     "metadata": {},
     "output_type": "display_data"
    }
   ],
   "source": [
    "res = date_transactions.revenue.resample('W', level=0).sum().reset_index()\n",
    "sns.set(rc={'figure.figsize':(20,3)}, style='whitegrid')\n",
    "fig = plt.figure(dpi=200)\n",
    "ax = sns.lineplot(x='paid_at',y='revenue',data=res[:43],color='grey',lw=2.5)\n",
    "ax = sns.lineplot(x='paid_at',y='revenue',data=res[42:48],color='red',lw=2.5)\n",
    "ax = sns.lineplot(x='paid_at',y='revenue',data=res[47:],color='grey',lw=2.5)\n",
    "ax.xaxis.set_major_locator(ticker.MultipleLocator(30))\n",
    "plt.title('Общий тренд и всплеск')\n",
    "plt.show()"
   ]
  },
  {
   "cell_type": "markdown",
   "metadata": {},
   "source": [
    "- ***проанализируем этот момент***"
   ]
  },
  {
   "cell_type": "code",
   "execution_count": 72,
   "metadata": {},
   "outputs": [],
   "source": [
    "interesting_period = total_transactions[('2017-10-15 21:23:00' < total_transactions.paid_at)\\\n",
    "                                       &('2017-11-15 21:23:00' > total_transactions.paid_at)]\n",
    "\n",
    "df1 = interesting_period.groupby(['country'])\\\n",
    "                  .agg({'revenue':'sum','uid': pd.Series.nunique})\\\n",
    "                  .sort_values('revenue',ascending=False).head(7)\\\n",
    "\n",
    "df2 = total_transactions.groupby('country')\\\n",
    "                  .agg({'revenue':'sum','uid': pd.Series.nunique})\\\n",
    "                  .sort_values('revenue',ascending=False).head(7)\n",
    "                 "
   ]
  },
  {
   "cell_type": "code",
   "execution_count": 73,
   "metadata": {},
   "outputs": [],
   "source": [
    "merge_df = df1.merge(df2,left_on='country', right_on='country',suffixes=('_by_period','_total'))\n",
    "merge_df['%uid'] = round(merge_df['uid_by_period'].div(merge_df['uid_total'])*100,1)\n",
    "merge_df['%revenue'] = round(merge_df['revenue_by_period'].div(merge_df['revenue_total'])*100,1)"
   ]
  },
  {
   "cell_type": "code",
   "execution_count": 74,
   "metadata": {},
   "outputs": [
    {
     "data": {
      "text/html": [
       "<style  type=\"text/css\" >\n",
       "#T_f754b3b6_87e2_11eb_af76_96000040dfb6row0_col2{\n",
       "            background-color:  #060606;\n",
       "            color:  #f1f1f1;\n",
       "        }#T_f754b3b6_87e2_11eb_af76_96000040dfb6row0_col5{\n",
       "            background-color:  #838383;\n",
       "            color:  #000000;\n",
       "        }#T_f754b3b6_87e2_11eb_af76_96000040dfb6row1_col2{\n",
       "            background-color:  #cacaca;\n",
       "            color:  #000000;\n",
       "        }#T_f754b3b6_87e2_11eb_af76_96000040dfb6row1_col5,#T_f754b3b6_87e2_11eb_af76_96000040dfb6row2_col2{\n",
       "            background-color:  #000000;\n",
       "            color:  #f1f1f1;\n",
       "        }#T_f754b3b6_87e2_11eb_af76_96000040dfb6row2_col5{\n",
       "            background-color:  #cdcdcd;\n",
       "            color:  #000000;\n",
       "        }#T_f754b3b6_87e2_11eb_af76_96000040dfb6row3_col2{\n",
       "            background-color:  #666666;\n",
       "            color:  #f1f1f1;\n",
       "        }#T_f754b3b6_87e2_11eb_af76_96000040dfb6row3_col5,#T_f754b3b6_87e2_11eb_af76_96000040dfb6row4_col2{\n",
       "            background-color:  #ffffff;\n",
       "            color:  #000000;\n",
       "        }#T_f754b3b6_87e2_11eb_af76_96000040dfb6row4_col5{\n",
       "            background-color:  #1e1e1e;\n",
       "            color:  #f1f1f1;\n",
       "        }#T_f754b3b6_87e2_11eb_af76_96000040dfb6row5_col2{\n",
       "            background-color:  #757575;\n",
       "            color:  #000000;\n",
       "        }#T_f754b3b6_87e2_11eb_af76_96000040dfb6row5_col5{\n",
       "            background-color:  #dadada;\n",
       "            color:  #000000;\n",
       "        }#T_f754b3b6_87e2_11eb_af76_96000040dfb6row6_col2{\n",
       "            background-color:  #e5e5e5;\n",
       "            color:  #000000;\n",
       "        }#T_f754b3b6_87e2_11eb_af76_96000040dfb6row6_col5{\n",
       "            background-color:  #a9a9a9;\n",
       "            color:  #000000;\n",
       "        }</style><table id=\"T_f754b3b6_87e2_11eb_af76_96000040dfb6\" ><thead>    <tr>        <th class=\"blank level0\" ></th>        <th class=\"col_heading level0 col0\" >uid_by_period</th>        <th class=\"col_heading level0 col1\" >uid_total</th>        <th class=\"col_heading level0 col2\" >%uid</th>        <th class=\"col_heading level0 col3\" >revenue_by_period</th>        <th class=\"col_heading level0 col4\" >revenue_total</th>        <th class=\"col_heading level0 col5\" >%revenue</th>    </tr>    <tr>        <th class=\"index_name level0\" >country</th>        <th class=\"blank\" ></th>        <th class=\"blank\" ></th>        <th class=\"blank\" ></th>        <th class=\"blank\" ></th>        <th class=\"blank\" ></th>        <th class=\"blank\" ></th>    </tr></thead><tbody>\n",
       "                <tr>\n",
       "                        <th id=\"T_f754b3b6_87e2_11eb_af76_96000040dfb6level0_row0\" class=\"row_heading level0 row0\" >United States of America</th>\n",
       "                        <td id=\"T_f754b3b6_87e2_11eb_af76_96000040dfb6row0_col0\" class=\"data row0 col0\" >112</td>\n",
       "                        <td id=\"T_f754b3b6_87e2_11eb_af76_96000040dfb6row0_col1\" class=\"data row0 col1\" >176</td>\n",
       "                        <td id=\"T_f754b3b6_87e2_11eb_af76_96000040dfb6row0_col2\" class=\"data row0 col2\" >63.6</td>\n",
       "                        <td id=\"T_f754b3b6_87e2_11eb_af76_96000040dfb6row0_col3\" class=\"data row0 col3\" >$1254292.0</td>\n",
       "                        <td id=\"T_f754b3b6_87e2_11eb_af76_96000040dfb6row0_col4\" class=\"data row0 col4\" >$2033967.0</td>\n",
       "                        <td id=\"T_f754b3b6_87e2_11eb_af76_96000040dfb6row0_col5\" class=\"data row0 col5\" >61.7</td>\n",
       "            </tr>\n",
       "            <tr>\n",
       "                        <th id=\"T_f754b3b6_87e2_11eb_af76_96000040dfb6level0_row1\" class=\"row_heading level0 row1\" >Italy</th>\n",
       "                        <td id=\"T_f754b3b6_87e2_11eb_af76_96000040dfb6row1_col0\" class=\"data row1 col0\" >23</td>\n",
       "                        <td id=\"T_f754b3b6_87e2_11eb_af76_96000040dfb6row1_col1\" class=\"data row1 col1\" >42</td>\n",
       "                        <td id=\"T_f754b3b6_87e2_11eb_af76_96000040dfb6row1_col2\" class=\"data row1 col2\" >54.8</td>\n",
       "                        <td id=\"T_f754b3b6_87e2_11eb_af76_96000040dfb6row1_col3\" class=\"data row1 col3\" >$580918.0</td>\n",
       "                        <td id=\"T_f754b3b6_87e2_11eb_af76_96000040dfb6row1_col4\" class=\"data row1 col4\" >$772200.0</td>\n",
       "                        <td id=\"T_f754b3b6_87e2_11eb_af76_96000040dfb6row1_col5\" class=\"data row1 col5\" >75.2</td>\n",
       "            </tr>\n",
       "            <tr>\n",
       "                        <th id=\"T_f754b3b6_87e2_11eb_af76_96000040dfb6level0_row2\" class=\"row_heading level0 row2\" >Spain</th>\n",
       "                        <td id=\"T_f754b3b6_87e2_11eb_af76_96000040dfb6row2_col0\" class=\"data row2 col0\" >23</td>\n",
       "                        <td id=\"T_f754b3b6_87e2_11eb_af76_96000040dfb6row2_col1\" class=\"data row2 col1\" >36</td>\n",
       "                        <td id=\"T_f754b3b6_87e2_11eb_af76_96000040dfb6row2_col2\" class=\"data row2 col2\" >63.9</td>\n",
       "                        <td id=\"T_f754b3b6_87e2_11eb_af76_96000040dfb6row2_col3\" class=\"data row2 col3\" >$313625.0</td>\n",
       "                        <td id=\"T_f754b3b6_87e2_11eb_af76_96000040dfb6row2_col4\" class=\"data row2 col4\" >$578266.0</td>\n",
       "                        <td id=\"T_f754b3b6_87e2_11eb_af76_96000040dfb6row2_col5\" class=\"data row2 col5\" >54.2</td>\n",
       "            </tr>\n",
       "            <tr>\n",
       "                        <th id=\"T_f754b3b6_87e2_11eb_af76_96000040dfb6level0_row3\" class=\"row_heading level0 row3\" >France</th>\n",
       "                        <td id=\"T_f754b3b6_87e2_11eb_af76_96000040dfb6row3_col0\" class=\"data row3 col0\" >32</td>\n",
       "                        <td id=\"T_f754b3b6_87e2_11eb_af76_96000040dfb6row3_col1\" class=\"data row3 col1\" >54</td>\n",
       "                        <td id=\"T_f754b3b6_87e2_11eb_af76_96000040dfb6row3_col2\" class=\"data row3 col2\" >59.3</td>\n",
       "                        <td id=\"T_f754b3b6_87e2_11eb_af76_96000040dfb6row3_col3\" class=\"data row3 col3\" >$307723.0</td>\n",
       "                        <td id=\"T_f754b3b6_87e2_11eb_af76_96000040dfb6row3_col4\" class=\"data row3 col4\" >$628602.0</td>\n",
       "                        <td id=\"T_f754b3b6_87e2_11eb_af76_96000040dfb6row3_col5\" class=\"data row3 col5\" >49.0</td>\n",
       "            </tr>\n",
       "            <tr>\n",
       "                        <th id=\"T_f754b3b6_87e2_11eb_af76_96000040dfb6level0_row4\" class=\"row_heading level0 row4\" >United Arab Emirates</th>\n",
       "                        <td id=\"T_f754b3b6_87e2_11eb_af76_96000040dfb6row4_col0\" class=\"data row4 col0\" >11</td>\n",
       "                        <td id=\"T_f754b3b6_87e2_11eb_af76_96000040dfb6row4_col1\" class=\"data row4 col1\" >21</td>\n",
       "                        <td id=\"T_f754b3b6_87e2_11eb_af76_96000040dfb6row4_col2\" class=\"data row4 col2\" >52.4</td>\n",
       "                        <td id=\"T_f754b3b6_87e2_11eb_af76_96000040dfb6row4_col3\" class=\"data row4 col3\" >$293111.0</td>\n",
       "                        <td id=\"T_f754b3b6_87e2_11eb_af76_96000040dfb6row4_col4\" class=\"data row4 col4\" >$406471.0</td>\n",
       "                        <td id=\"T_f754b3b6_87e2_11eb_af76_96000040dfb6row4_col5\" class=\"data row4 col5\" >72.1</td>\n",
       "            </tr>\n",
       "            <tr>\n",
       "                        <th id=\"T_f754b3b6_87e2_11eb_af76_96000040dfb6level0_row5\" class=\"row_heading level0 row5\" >Argentina</th>\n",
       "                        <td id=\"T_f754b3b6_87e2_11eb_af76_96000040dfb6row5_col0\" class=\"data row5 col0\" >17</td>\n",
       "                        <td id=\"T_f754b3b6_87e2_11eb_af76_96000040dfb6row5_col1\" class=\"data row5 col1\" >29</td>\n",
       "                        <td id=\"T_f754b3b6_87e2_11eb_af76_96000040dfb6row5_col2\" class=\"data row5 col2\" >58.6</td>\n",
       "                        <td id=\"T_f754b3b6_87e2_11eb_af76_96000040dfb6row5_col3\" class=\"data row5 col3\" >$238875.0</td>\n",
       "                        <td id=\"T_f754b3b6_87e2_11eb_af76_96000040dfb6row5_col4\" class=\"data row5 col4\" >$452465.0</td>\n",
       "                        <td id=\"T_f754b3b6_87e2_11eb_af76_96000040dfb6row5_col5\" class=\"data row5 col5\" >52.8</td>\n",
       "            </tr>\n",
       "            <tr>\n",
       "                        <th id=\"T_f754b3b6_87e2_11eb_af76_96000040dfb6level0_row6\" class=\"row_heading level0 row6\" >United Kingdom (Great Britain)</th>\n",
       "                        <td id=\"T_f754b3b6_87e2_11eb_af76_96000040dfb6row6_col0\" class=\"data row6 col0\" >15</td>\n",
       "                        <td id=\"T_f754b3b6_87e2_11eb_af76_96000040dfb6row6_col1\" class=\"data row6 col1\" >28</td>\n",
       "                        <td id=\"T_f754b3b6_87e2_11eb_af76_96000040dfb6row6_col2\" class=\"data row6 col2\" >53.6</td>\n",
       "                        <td id=\"T_f754b3b6_87e2_11eb_af76_96000040dfb6row6_col3\" class=\"data row6 col3\" >$216008.0</td>\n",
       "                        <td id=\"T_f754b3b6_87e2_11eb_af76_96000040dfb6row6_col4\" class=\"data row6 col4\" >$372814.0</td>\n",
       "                        <td id=\"T_f754b3b6_87e2_11eb_af76_96000040dfb6row6_col5\" class=\"data row6 col5\" >57.9</td>\n",
       "            </tr>\n",
       "    </tbody></table>"
      ],
      "text/plain": [
       "<pandas.io.formats.style.Styler at 0x7f8c34714f28>"
      ]
     },
     "execution_count": 74,
     "metadata": {},
     "output_type": "execute_result"
    }
   ],
   "source": [
    "merge_df[['uid_by_period','uid_total','%uid','revenue_by_period','revenue_total','%revenue']]\\\n",
    "        .style.format('${:.1f}', subset=['revenue_by_period','revenue_total'])\\\n",
    "        .format('{:.1f}', subset=['%uid','%revenue'])\\\n",
    "        .background_gradient(subset=['%uid','%revenue'], cmap='gist_yarg')"
   ]
  },
  {
   "cell_type": "markdown",
   "metadata": {},
   "source": [
    "#### На \"всплеск покупательской активности\" приходится свыше 50% всех транзакций - с участием более 50% от общего числа всех пользователей. Природу данного явления установить не удается (нет данных) "
   ]
  },
  {
   "cell_type": "markdown",
   "metadata": {},
   "source": [
    "# Общие выводы:"
   ]
  },
  {
   "cell_type": "markdown",
   "metadata": {},
   "source": [
    "- **ЕСЛИ ЦЕЛЬЮ ЭКСПЕРИМЕНТА БЫЛО УВЕЛИЧЕНИЕ КОНВЕРСИИ В PREMIUM - ОН НЕ УДАЛСЯ ;**\n",
    "- **ПОЛОЖИТЕЛЬНОЕ ИЗМЕНЕНИЕ ПОКАЗАНИЙ МЕТРИК НАПРЯМУЮ СВЯЗАНО С РЕЗКИМ СКАЧКОМ АКТИВНОСТИ В ПЕРИОД   (с 2017-10-15 по 2017-11-15)  надо найти причину;** "
   ]
  },
  {
   "cell_type": "code",
   "execution_count": null,
   "metadata": {},
   "outputs": [],
   "source": []
  },
  {
   "cell_type": "markdown",
   "metadata": {},
   "source": [
    "### Дополнительно: \n",
    "**установить зависимость между кол-вом coins и другими факторами не удалось, но тот факт, что 85% coin'ов в находятся в руках нашего** **соотечественника очень любопытен :-))**"
   ]
  },
  {
   "cell_type": "code",
   "execution_count": 75,
   "metadata": {},
   "outputs": [
    {
     "data": {
      "text/html": [
       "<style  type=\"text/css\" >\n",
       "</style><table id=\"T_f754b3b7_87e2_11eb_af76_96000040dfb6\" ><thead>    <tr>        <th class=\"blank level0\" ></th>        <th class=\"col_heading level0 col0\" >uid</th>        <th class=\"col_heading level0 col1\" >age</th>        <th class=\"col_heading level0 col2\" >attraction_coeff</th>        <th class=\"col_heading level0 col3\" >coins</th>        <th class=\"col_heading level0 col4\" >country</th>        <th class=\"col_heading level0 col5\" >was_premium</th>        <th class=\"col_heading level0 col6\" >is_premium</th>        <th class=\"col_heading level0 col7\" >total_revenue</th>    </tr></thead><tbody>\n",
       "                <tr>\n",
       "                        <th id=\"T_f754b3b7_87e2_11eb_af76_96000040dfb6level0_row0\" class=\"row_heading level0 row0\" >597</th>\n",
       "                        <td id=\"T_f754b3b7_87e2_11eb_af76_96000040dfb6row0_col0\" class=\"data row0 col0\" >891346269</td>\n",
       "                        <td id=\"T_f754b3b7_87e2_11eb_af76_96000040dfb6row0_col1\" class=\"data row0 col1\" >34</td>\n",
       "                        <td id=\"T_f754b3b7_87e2_11eb_af76_96000040dfb6row0_col2\" class=\"data row0 col2\" >204</td>\n",
       "                        <td id=\"T_f754b3b7_87e2_11eb_af76_96000040dfb6row0_col3\" class=\"data row0 col3\" >530</td>\n",
       "                        <td id=\"T_f754b3b7_87e2_11eb_af76_96000040dfb6row0_col4\" class=\"data row0 col4\" >Argentina</td>\n",
       "                        <td id=\"T_f754b3b7_87e2_11eb_af76_96000040dfb6row0_col5\" class=\"data row0 col5\" >1</td>\n",
       "                        <td id=\"T_f754b3b7_87e2_11eb_af76_96000040dfb6row0_col6\" class=\"data row0 col6\" >1</td>\n",
       "                        <td id=\"T_f754b3b7_87e2_11eb_af76_96000040dfb6row0_col7\" class=\"data row0 col7\" >$75647.0</td>\n",
       "            </tr>\n",
       "            <tr>\n",
       "                        <th id=\"T_f754b3b7_87e2_11eb_af76_96000040dfb6level0_row1\" class=\"row_heading level0 row1\" >406</th>\n",
       "                        <td id=\"T_f754b3b7_87e2_11eb_af76_96000040dfb6row1_col0\" class=\"data row1 col0\" >892236423</td>\n",
       "                        <td id=\"T_f754b3b7_87e2_11eb_af76_96000040dfb6row1_col1\" class=\"data row1 col1\" >23</td>\n",
       "                        <td id=\"T_f754b3b7_87e2_11eb_af76_96000040dfb6row1_col2\" class=\"data row1 col2\" >262</td>\n",
       "                        <td id=\"T_f754b3b7_87e2_11eb_af76_96000040dfb6row1_col3\" class=\"data row1 col3\" >378</td>\n",
       "                        <td id=\"T_f754b3b7_87e2_11eb_af76_96000040dfb6row1_col4\" class=\"data row1 col4\" >United States of America</td>\n",
       "                        <td id=\"T_f754b3b7_87e2_11eb_af76_96000040dfb6row1_col5\" class=\"data row1 col5\" >1</td>\n",
       "                        <td id=\"T_f754b3b7_87e2_11eb_af76_96000040dfb6row1_col6\" class=\"data row1 col6\" >1</td>\n",
       "                        <td id=\"T_f754b3b7_87e2_11eb_af76_96000040dfb6row1_col7\" class=\"data row1 col7\" >$95823.0</td>\n",
       "            </tr>\n",
       "            <tr>\n",
       "                        <th id=\"T_f754b3b7_87e2_11eb_af76_96000040dfb6level0_row2\" class=\"row_heading level0 row2\" >476</th>\n",
       "                        <td id=\"T_f754b3b7_87e2_11eb_af76_96000040dfb6row2_col0\" class=\"data row2 col0\" >891654090</td>\n",
       "                        <td id=\"T_f754b3b7_87e2_11eb_af76_96000040dfb6row2_col1\" class=\"data row2 col1\" >29</td>\n",
       "                        <td id=\"T_f754b3b7_87e2_11eb_af76_96000040dfb6row2_col2\" class=\"data row2 col2\" >326</td>\n",
       "                        <td id=\"T_f754b3b7_87e2_11eb_af76_96000040dfb6row2_col3\" class=\"data row2 col3\" >248</td>\n",
       "                        <td id=\"T_f754b3b7_87e2_11eb_af76_96000040dfb6row2_col4\" class=\"data row2 col4\" >United States of America</td>\n",
       "                        <td id=\"T_f754b3b7_87e2_11eb_af76_96000040dfb6row2_col5\" class=\"data row2 col5\" >1</td>\n",
       "                        <td id=\"T_f754b3b7_87e2_11eb_af76_96000040dfb6row2_col6\" class=\"data row2 col6\" >1</td>\n",
       "                        <td id=\"T_f754b3b7_87e2_11eb_af76_96000040dfb6row2_col7\" class=\"data row2 col7\" >$38155.0</td>\n",
       "            </tr>\n",
       "            <tr>\n",
       "                        <th id=\"T_f754b3b7_87e2_11eb_af76_96000040dfb6level0_row3\" class=\"row_heading level0 row3\" >851</th>\n",
       "                        <td id=\"T_f754b3b7_87e2_11eb_af76_96000040dfb6row3_col0\" class=\"data row3 col0\" >892186941</td>\n",
       "                        <td id=\"T_f754b3b7_87e2_11eb_af76_96000040dfb6row3_col1\" class=\"data row3 col1\" >44</td>\n",
       "                        <td id=\"T_f754b3b7_87e2_11eb_af76_96000040dfb6row3_col2\" class=\"data row3 col2\" >552</td>\n",
       "                        <td id=\"T_f754b3b7_87e2_11eb_af76_96000040dfb6row3_col3\" class=\"data row3 col3\" >88</td>\n",
       "                        <td id=\"T_f754b3b7_87e2_11eb_af76_96000040dfb6row3_col4\" class=\"data row3 col4\" >United States of America</td>\n",
       "                        <td id=\"T_f754b3b7_87e2_11eb_af76_96000040dfb6row3_col5\" class=\"data row3 col5\" >1</td>\n",
       "                        <td id=\"T_f754b3b7_87e2_11eb_af76_96000040dfb6row3_col6\" class=\"data row3 col6\" >1</td>\n",
       "                        <td id=\"T_f754b3b7_87e2_11eb_af76_96000040dfb6row3_col7\" class=\"data row3 col7\" >$25207.0</td>\n",
       "            </tr>\n",
       "            <tr>\n",
       "                        <th id=\"T_f754b3b7_87e2_11eb_af76_96000040dfb6level0_row4\" class=\"row_heading level0 row4\" >1067</th>\n",
       "                        <td id=\"T_f754b3b7_87e2_11eb_af76_96000040dfb6row4_col0\" class=\"data row4 col0\" >891986289</td>\n",
       "                        <td id=\"T_f754b3b7_87e2_11eb_af76_96000040dfb6row4_col1\" class=\"data row4 col1\" >38</td>\n",
       "                        <td id=\"T_f754b3b7_87e2_11eb_af76_96000040dfb6row4_col2\" class=\"data row4 col2\" >145</td>\n",
       "                        <td id=\"T_f754b3b7_87e2_11eb_af76_96000040dfb6row4_col3\" class=\"data row4 col3\" >81</td>\n",
       "                        <td id=\"T_f754b3b7_87e2_11eb_af76_96000040dfb6row4_col4\" class=\"data row4 col4\" >France</td>\n",
       "                        <td id=\"T_f754b3b7_87e2_11eb_af76_96000040dfb6row4_col5\" class=\"data row4 col5\" >1</td>\n",
       "                        <td id=\"T_f754b3b7_87e2_11eb_af76_96000040dfb6row4_col6\" class=\"data row4 col6\" >1</td>\n",
       "                        <td id=\"T_f754b3b7_87e2_11eb_af76_96000040dfb6row4_col7\" class=\"data row4 col7\" >$31512.0</td>\n",
       "            </tr>\n",
       "            <tr>\n",
       "                        <th id=\"T_f754b3b7_87e2_11eb_af76_96000040dfb6level0_row5\" class=\"row_heading level0 row5\" >2642</th>\n",
       "                        <td id=\"T_f754b3b7_87e2_11eb_af76_96000040dfb6row5_col0\" class=\"data row5 col0\" >892065108</td>\n",
       "                        <td id=\"T_f754b3b7_87e2_11eb_af76_96000040dfb6row5_col1\" class=\"data row5 col1\" >99</td>\n",
       "                        <td id=\"T_f754b3b7_87e2_11eb_af76_96000040dfb6row5_col2\" class=\"data row5 col2\" >475</td>\n",
       "                        <td id=\"T_f754b3b7_87e2_11eb_af76_96000040dfb6row5_col3\" class=\"data row5 col3\" >72</td>\n",
       "                        <td id=\"T_f754b3b7_87e2_11eb_af76_96000040dfb6row5_col4\" class=\"data row5 col4\" >France</td>\n",
       "                        <td id=\"T_f754b3b7_87e2_11eb_af76_96000040dfb6row5_col5\" class=\"data row5 col5\" >1</td>\n",
       "                        <td id=\"T_f754b3b7_87e2_11eb_af76_96000040dfb6row5_col6\" class=\"data row5 col6\" >1</td>\n",
       "                        <td id=\"T_f754b3b7_87e2_11eb_af76_96000040dfb6row5_col7\" class=\"data row5 col7\" >$47242.0</td>\n",
       "            </tr>\n",
       "            <tr>\n",
       "                        <th id=\"T_f754b3b7_87e2_11eb_af76_96000040dfb6level0_row6\" class=\"row_heading level0 row6\" >100</th>\n",
       "                        <td id=\"T_f754b3b7_87e2_11eb_af76_96000040dfb6row6_col0\" class=\"data row6 col0\" >891343671</td>\n",
       "                        <td id=\"T_f754b3b7_87e2_11eb_af76_96000040dfb6row6_col1\" class=\"data row6 col1\" >26</td>\n",
       "                        <td id=\"T_f754b3b7_87e2_11eb_af76_96000040dfb6row6_col2\" class=\"data row6 col2\" >0</td>\n",
       "                        <td id=\"T_f754b3b7_87e2_11eb_af76_96000040dfb6row6_col3\" class=\"data row6 col3\" >24</td>\n",
       "                        <td id=\"T_f754b3b7_87e2_11eb_af76_96000040dfb6row6_col4\" class=\"data row6 col4\" >France</td>\n",
       "                        <td id=\"T_f754b3b7_87e2_11eb_af76_96000040dfb6row6_col5\" class=\"data row6 col5\" >1</td>\n",
       "                        <td id=\"T_f754b3b7_87e2_11eb_af76_96000040dfb6row6_col6\" class=\"data row6 col6\" >1</td>\n",
       "                        <td id=\"T_f754b3b7_87e2_11eb_af76_96000040dfb6row6_col7\" class=\"data row6 col7\" >$21580.0</td>\n",
       "            </tr>\n",
       "            <tr>\n",
       "                        <th id=\"T_f754b3b7_87e2_11eb_af76_96000040dfb6level0_row7\" class=\"row_heading level0 row7\" >3604</th>\n",
       "                        <td id=\"T_f754b3b7_87e2_11eb_af76_96000040dfb6row7_col0\" class=\"data row7 col0\" >891603810</td>\n",
       "                        <td id=\"T_f754b3b7_87e2_11eb_af76_96000040dfb6row7_col1\" class=\"data row7 col1\" >20</td>\n",
       "                        <td id=\"T_f754b3b7_87e2_11eb_af76_96000040dfb6row7_col2\" class=\"data row7 col2\" >212</td>\n",
       "                        <td id=\"T_f754b3b7_87e2_11eb_af76_96000040dfb6row7_col3\" class=\"data row7 col3\" >16</td>\n",
       "                        <td id=\"T_f754b3b7_87e2_11eb_af76_96000040dfb6row7_col4\" class=\"data row7 col4\" >United States of America</td>\n",
       "                        <td id=\"T_f754b3b7_87e2_11eb_af76_96000040dfb6row7_col5\" class=\"data row7 col5\" >1</td>\n",
       "                        <td id=\"T_f754b3b7_87e2_11eb_af76_96000040dfb6row7_col6\" class=\"data row7 col6\" >1</td>\n",
       "                        <td id=\"T_f754b3b7_87e2_11eb_af76_96000040dfb6row7_col7\" class=\"data row7 col7\" >$13702.0</td>\n",
       "            </tr>\n",
       "            <tr>\n",
       "                        <th id=\"T_f754b3b7_87e2_11eb_af76_96000040dfb6level0_row8\" class=\"row_heading level0 row8\" >1114</th>\n",
       "                        <td id=\"T_f754b3b7_87e2_11eb_af76_96000040dfb6row8_col0\" class=\"data row8 col0\" >891222282</td>\n",
       "                        <td id=\"T_f754b3b7_87e2_11eb_af76_96000040dfb6row8_col1\" class=\"data row8 col1\" >41</td>\n",
       "                        <td id=\"T_f754b3b7_87e2_11eb_af76_96000040dfb6row8_col2\" class=\"data row8 col2\" >476</td>\n",
       "                        <td id=\"T_f754b3b7_87e2_11eb_af76_96000040dfb6row8_col3\" class=\"data row8 col3\" >16</td>\n",
       "                        <td id=\"T_f754b3b7_87e2_11eb_af76_96000040dfb6row8_col4\" class=\"data row8 col4\" >United States of America</td>\n",
       "                        <td id=\"T_f754b3b7_87e2_11eb_af76_96000040dfb6row8_col5\" class=\"data row8 col5\" >1</td>\n",
       "                        <td id=\"T_f754b3b7_87e2_11eb_af76_96000040dfb6row8_col6\" class=\"data row8 col6\" >1</td>\n",
       "                        <td id=\"T_f754b3b7_87e2_11eb_af76_96000040dfb6row8_col7\" class=\"data row8 col7\" >$12597.0</td>\n",
       "            </tr>\n",
       "            <tr>\n",
       "                        <th id=\"T_f754b3b7_87e2_11eb_af76_96000040dfb6level0_row9\" class=\"row_heading level0 row9\" >446</th>\n",
       "                        <td id=\"T_f754b3b7_87e2_11eb_af76_96000040dfb6row9_col0\" class=\"data row9 col0\" >891406224</td>\n",
       "                        <td id=\"T_f754b3b7_87e2_11eb_af76_96000040dfb6row9_col1\" class=\"data row9 col1\" >25</td>\n",
       "                        <td id=\"T_f754b3b7_87e2_11eb_af76_96000040dfb6row9_col2\" class=\"data row9 col2\" >212</td>\n",
       "                        <td id=\"T_f754b3b7_87e2_11eb_af76_96000040dfb6row9_col3\" class=\"data row9 col3\" >10</td>\n",
       "                        <td id=\"T_f754b3b7_87e2_11eb_af76_96000040dfb6row9_col4\" class=\"data row9 col4\" >Israel</td>\n",
       "                        <td id=\"T_f754b3b7_87e2_11eb_af76_96000040dfb6row9_col5\" class=\"data row9 col5\" >1</td>\n",
       "                        <td id=\"T_f754b3b7_87e2_11eb_af76_96000040dfb6row9_col6\" class=\"data row9 col6\" >1</td>\n",
       "                        <td id=\"T_f754b3b7_87e2_11eb_af76_96000040dfb6row9_col7\" class=\"data row9 col7\" >$21645.0</td>\n",
       "            </tr>\n",
       "            <tr>\n",
       "                        <th id=\"T_f754b3b7_87e2_11eb_af76_96000040dfb6level0_row10\" class=\"row_heading level0 row10\" >1493</th>\n",
       "                        <td id=\"T_f754b3b7_87e2_11eb_af76_96000040dfb6row10_col0\" class=\"data row10 col0\" >891558921</td>\n",
       "                        <td id=\"T_f754b3b7_87e2_11eb_af76_96000040dfb6row10_col1\" class=\"data row10 col1\" >38</td>\n",
       "                        <td id=\"T_f754b3b7_87e2_11eb_af76_96000040dfb6row10_col2\" class=\"data row10 col2\" >470</td>\n",
       "                        <td id=\"T_f754b3b7_87e2_11eb_af76_96000040dfb6row10_col3\" class=\"data row10 col3\" >6</td>\n",
       "                        <td id=\"T_f754b3b7_87e2_11eb_af76_96000040dfb6row10_col4\" class=\"data row10 col4\" >United States of America</td>\n",
       "                        <td id=\"T_f754b3b7_87e2_11eb_af76_96000040dfb6row10_col5\" class=\"data row10 col5\" >1</td>\n",
       "                        <td id=\"T_f754b3b7_87e2_11eb_af76_96000040dfb6row10_col6\" class=\"data row10 col6\" >1</td>\n",
       "                        <td id=\"T_f754b3b7_87e2_11eb_af76_96000040dfb6row10_col7\" class=\"data row10 col7\" >$9997.0</td>\n",
       "            </tr>\n",
       "            <tr>\n",
       "                        <th id=\"T_f754b3b7_87e2_11eb_af76_96000040dfb6level0_row11\" class=\"row_heading level0 row11\" >1736</th>\n",
       "                        <td id=\"T_f754b3b7_87e2_11eb_af76_96000040dfb6row11_col0\" class=\"data row11 col0\" >892050108</td>\n",
       "                        <td id=\"T_f754b3b7_87e2_11eb_af76_96000040dfb6row11_col1\" class=\"data row11 col1\" >51</td>\n",
       "                        <td id=\"T_f754b3b7_87e2_11eb_af76_96000040dfb6row11_col2\" class=\"data row11 col2\" >239</td>\n",
       "                        <td id=\"T_f754b3b7_87e2_11eb_af76_96000040dfb6row11_col3\" class=\"data row11 col3\" >6</td>\n",
       "                        <td id=\"T_f754b3b7_87e2_11eb_af76_96000040dfb6row11_col4\" class=\"data row11 col4\" >Israel</td>\n",
       "                        <td id=\"T_f754b3b7_87e2_11eb_af76_96000040dfb6row11_col5\" class=\"data row11 col5\" >1</td>\n",
       "                        <td id=\"T_f754b3b7_87e2_11eb_af76_96000040dfb6row11_col6\" class=\"data row11 col6\" >1</td>\n",
       "                        <td id=\"T_f754b3b7_87e2_11eb_af76_96000040dfb6row11_col7\" class=\"data row11 col7\" >$16380.0</td>\n",
       "            </tr>\n",
       "            <tr>\n",
       "                        <th id=\"T_f754b3b7_87e2_11eb_af76_96000040dfb6level0_row12\" class=\"row_heading level0 row12\" >1235</th>\n",
       "                        <td id=\"T_f754b3b7_87e2_11eb_af76_96000040dfb6row12_col0\" class=\"data row12 col0\" >892405179</td>\n",
       "                        <td id=\"T_f754b3b7_87e2_11eb_af76_96000040dfb6row12_col1\" class=\"data row12 col1\" >19</td>\n",
       "                        <td id=\"T_f754b3b7_87e2_11eb_af76_96000040dfb6row12_col2\" class=\"data row12 col2\" >127</td>\n",
       "                        <td id=\"T_f754b3b7_87e2_11eb_af76_96000040dfb6row12_col3\" class=\"data row12 col3\" >4</td>\n",
       "                        <td id=\"T_f754b3b7_87e2_11eb_af76_96000040dfb6row12_col4\" class=\"data row12 col4\" >United States of America</td>\n",
       "                        <td id=\"T_f754b3b7_87e2_11eb_af76_96000040dfb6row12_col5\" class=\"data row12 col5\" >1</td>\n",
       "                        <td id=\"T_f754b3b7_87e2_11eb_af76_96000040dfb6row12_col6\" class=\"data row12 col6\" >1</td>\n",
       "                        <td id=\"T_f754b3b7_87e2_11eb_af76_96000040dfb6row12_col7\" class=\"data row12 col7\" >$13702.0</td>\n",
       "            </tr>\n",
       "            <tr>\n",
       "                        <th id=\"T_f754b3b7_87e2_11eb_af76_96000040dfb6level0_row13\" class=\"row_heading level0 row13\" >3120</th>\n",
       "                        <td id=\"T_f754b3b7_87e2_11eb_af76_96000040dfb6row13_col0\" class=\"data row13 col0\" >891600819</td>\n",
       "                        <td id=\"T_f754b3b7_87e2_11eb_af76_96000040dfb6row13_col1\" class=\"data row13 col1\" >32</td>\n",
       "                        <td id=\"T_f754b3b7_87e2_11eb_af76_96000040dfb6row13_col2\" class=\"data row13 col2\" >133</td>\n",
       "                        <td id=\"T_f754b3b7_87e2_11eb_af76_96000040dfb6row13_col3\" class=\"data row13 col3\" >4</td>\n",
       "                        <td id=\"T_f754b3b7_87e2_11eb_af76_96000040dfb6row13_col4\" class=\"data row13 col4\" >United States of America</td>\n",
       "                        <td id=\"T_f754b3b7_87e2_11eb_af76_96000040dfb6row13_col5\" class=\"data row13 col5\" >1</td>\n",
       "                        <td id=\"T_f754b3b7_87e2_11eb_af76_96000040dfb6row13_col6\" class=\"data row13 col6\" >1</td>\n",
       "                        <td id=\"T_f754b3b7_87e2_11eb_af76_96000040dfb6row13_col7\" class=\"data row13 col7\" >$20059.0</td>\n",
       "            </tr>\n",
       "            <tr>\n",
       "                        <th id=\"T_f754b3b7_87e2_11eb_af76_96000040dfb6level0_row14\" class=\"row_heading level0 row14\" >3894</th>\n",
       "                        <td id=\"T_f754b3b7_87e2_11eb_af76_96000040dfb6row14_col0\" class=\"data row14 col0\" >892168170</td>\n",
       "                        <td id=\"T_f754b3b7_87e2_11eb_af76_96000040dfb6row14_col1\" class=\"data row14 col1\" >29</td>\n",
       "                        <td id=\"T_f754b3b7_87e2_11eb_af76_96000040dfb6row14_col2\" class=\"data row14 col2\" >406</td>\n",
       "                        <td id=\"T_f754b3b7_87e2_11eb_af76_96000040dfb6row14_col3\" class=\"data row14 col3\" >4</td>\n",
       "                        <td id=\"T_f754b3b7_87e2_11eb_af76_96000040dfb6row14_col4\" class=\"data row14 col4\" >United States of America</td>\n",
       "                        <td id=\"T_f754b3b7_87e2_11eb_af76_96000040dfb6row14_col5\" class=\"data row14 col5\" >1</td>\n",
       "                        <td id=\"T_f754b3b7_87e2_11eb_af76_96000040dfb6row14_col6\" class=\"data row14 col6\" >1</td>\n",
       "                        <td id=\"T_f754b3b7_87e2_11eb_af76_96000040dfb6row14_col7\" class=\"data row14 col7\" >$15392.0</td>\n",
       "            </tr>\n",
       "            <tr>\n",
       "                        <th id=\"T_f754b3b7_87e2_11eb_af76_96000040dfb6level0_row15\" class=\"row_heading level0 row15\" >1991</th>\n",
       "                        <td id=\"T_f754b3b7_87e2_11eb_af76_96000040dfb6row15_col0\" class=\"data row15 col0\" >892037613</td>\n",
       "                        <td id=\"T_f754b3b7_87e2_11eb_af76_96000040dfb6row15_col1\" class=\"data row15 col1\" >21</td>\n",
       "                        <td id=\"T_f754b3b7_87e2_11eb_af76_96000040dfb6row15_col2\" class=\"data row15 col2\" >120</td>\n",
       "                        <td id=\"T_f754b3b7_87e2_11eb_af76_96000040dfb6row15_col3\" class=\"data row15 col3\" >2</td>\n",
       "                        <td id=\"T_f754b3b7_87e2_11eb_af76_96000040dfb6row15_col4\" class=\"data row15 col4\" >United States of America</td>\n",
       "                        <td id=\"T_f754b3b7_87e2_11eb_af76_96000040dfb6row15_col5\" class=\"data row15 col5\" >1</td>\n",
       "                        <td id=\"T_f754b3b7_87e2_11eb_af76_96000040dfb6row15_col6\" class=\"data row15 col6\" >1</td>\n",
       "                        <td id=\"T_f754b3b7_87e2_11eb_af76_96000040dfb6row15_col7\" class=\"data row15 col7\" >$22776.0</td>\n",
       "            </tr>\n",
       "            <tr>\n",
       "                        <th id=\"T_f754b3b7_87e2_11eb_af76_96000040dfb6level0_row16\" class=\"row_heading level0 row16\" >360</th>\n",
       "                        <td id=\"T_f754b3b7_87e2_11eb_af76_96000040dfb6row16_col0\" class=\"data row16 col0\" >892057347</td>\n",
       "                        <td id=\"T_f754b3b7_87e2_11eb_af76_96000040dfb6row16_col1\" class=\"data row16 col1\" >29</td>\n",
       "                        <td id=\"T_f754b3b7_87e2_11eb_af76_96000040dfb6row16_col2\" class=\"data row16 col2\" >366</td>\n",
       "                        <td id=\"T_f754b3b7_87e2_11eb_af76_96000040dfb6row16_col3\" class=\"data row16 col3\" >2</td>\n",
       "                        <td id=\"T_f754b3b7_87e2_11eb_af76_96000040dfb6row16_col4\" class=\"data row16 col4\" >France</td>\n",
       "                        <td id=\"T_f754b3b7_87e2_11eb_af76_96000040dfb6row16_col5\" class=\"data row16 col5\" >1</td>\n",
       "                        <td id=\"T_f754b3b7_87e2_11eb_af76_96000040dfb6row16_col6\" class=\"data row16 col6\" >1</td>\n",
       "                        <td id=\"T_f754b3b7_87e2_11eb_af76_96000040dfb6row16_col7\" class=\"data row16 col7\" >$30459.0</td>\n",
       "            </tr>\n",
       "    </tbody></table>"
      ],
      "text/plain": [
       "<pandas.io.formats.style.Styler at 0x7f8c357f75f8>"
      ]
     },
     "execution_count": 75,
     "metadata": {},
     "output_type": "execute_result"
    }
   ],
   "source": [
    "(users_test[['uid','age','attraction_coeff','coins','country','was_premium','is_premium','total_revenue']]\n",
    "    .query('uid in @interesting_users & coins > 0')\n",
    "    .sort_values('coins',ascending=False)\n",
    "    .style\n",
    "    .format('${:.1f}', subset=['total_revenue'])\n",
    "    .format('{:.0f}', subset=['was_premium','is_premium','coins']))"
   ]
  },
  {
   "cell_type": "code",
   "execution_count": 104,
   "metadata": {},
   "outputs": [
    {
     "data": {
      "text/html": [
       "<style  type=\"text/css\" >\n",
       "#T_1aca83fe_87e7_11eb_af76_96000040dfb6row0_col2{\n",
       "            background-color:  #67C5EE;\n",
       "        }</style><table id=\"T_1aca83fe_87e7_11eb_af76_96000040dfb6\" ><thead>    <tr>        <th class=\"blank level0\" ></th>        <th class=\"col_heading level0 col0\" >country</th>        <th class=\"col_heading level0 col1\" >uid</th>        <th class=\"col_heading level0 col2\" >coins</th>        <th class=\"col_heading level0 col3\" >total_revenue</th>    </tr></thead><tbody>\n",
       "                <tr>\n",
       "                        <th id=\"T_1aca83fe_87e7_11eb_af76_96000040dfb6level0_row0\" class=\"row_heading level0 row0\" >6256</th>\n",
       "                        <td id=\"T_1aca83fe_87e7_11eb_af76_96000040dfb6row0_col0\" class=\"data row0 col0\" >Russian Federation</td>\n",
       "                        <td id=\"T_1aca83fe_87e7_11eb_af76_96000040dfb6row0_col1\" class=\"data row0 col1\" >960936960</td>\n",
       "                        <td id=\"T_1aca83fe_87e7_11eb_af76_96000040dfb6row0_col2\" class=\"data row0 col2\" >99958</td>\n",
       "                        <td id=\"T_1aca83fe_87e7_11eb_af76_96000040dfb6row0_col3\" class=\"data row0 col3\" >26</td>\n",
       "            </tr>\n",
       "            <tr>\n",
       "                        <th id=\"T_1aca83fe_87e7_11eb_af76_96000040dfb6level0_row1\" class=\"row_heading level0 row1\" >6254</th>\n",
       "                        <td id=\"T_1aca83fe_87e7_11eb_af76_96000040dfb6row1_col0\" class=\"data row1 col0\" >Russian Federation</td>\n",
       "                        <td id=\"T_1aca83fe_87e7_11eb_af76_96000040dfb6row1_col1\" class=\"data row1 col1\" >905158620</td>\n",
       "                        <td id=\"T_1aca83fe_87e7_11eb_af76_96000040dfb6row1_col2\" class=\"data row1 col2\" >8466</td>\n",
       "                        <td id=\"T_1aca83fe_87e7_11eb_af76_96000040dfb6row1_col3\" class=\"data row1 col3\" >0</td>\n",
       "            </tr>\n",
       "            <tr>\n",
       "                        <th id=\"T_1aca83fe_87e7_11eb_af76_96000040dfb6level0_row2\" class=\"row_heading level0 row2\" >5838</th>\n",
       "                        <td id=\"T_1aca83fe_87e7_11eb_af76_96000040dfb6row2_col0\" class=\"data row2 col0\" >Italy</td>\n",
       "                        <td id=\"T_1aca83fe_87e7_11eb_af76_96000040dfb6row2_col1\" class=\"data row2 col1\" >892333905</td>\n",
       "                        <td id=\"T_1aca83fe_87e7_11eb_af76_96000040dfb6row2_col2\" class=\"data row2 col2\" >3608</td>\n",
       "                        <td id=\"T_1aca83fe_87e7_11eb_af76_96000040dfb6row2_col3\" class=\"data row2 col3\" >486330</td>\n",
       "            </tr>\n",
       "            <tr>\n",
       "                        <th id=\"T_1aca83fe_87e7_11eb_af76_96000040dfb6level0_row3\" class=\"row_heading level0 row3\" >343</th>\n",
       "                        <td id=\"T_1aca83fe_87e7_11eb_af76_96000040dfb6row3_col0\" class=\"data row3 col0\" >Argentina</td>\n",
       "                        <td id=\"T_1aca83fe_87e7_11eb_af76_96000040dfb6row3_col1\" class=\"data row3 col1\" >891346269</td>\n",
       "                        <td id=\"T_1aca83fe_87e7_11eb_af76_96000040dfb6row3_col2\" class=\"data row3 col2\" >530</td>\n",
       "                        <td id=\"T_1aca83fe_87e7_11eb_af76_96000040dfb6row3_col3\" class=\"data row3 col3\" >75647</td>\n",
       "            </tr>\n",
       "            <tr>\n",
       "                        <th id=\"T_1aca83fe_87e7_11eb_af76_96000040dfb6level0_row4\" class=\"row_heading level0 row4\" >12247</th>\n",
       "                        <td id=\"T_1aca83fe_87e7_11eb_af76_96000040dfb6row4_col0\" class=\"data row4 col0\" >United States of America</td>\n",
       "                        <td id=\"T_1aca83fe_87e7_11eb_af76_96000040dfb6row4_col1\" class=\"data row4 col1\" >892236423</td>\n",
       "                        <td id=\"T_1aca83fe_87e7_11eb_af76_96000040dfb6row4_col2\" class=\"data row4 col2\" >378</td>\n",
       "                        <td id=\"T_1aca83fe_87e7_11eb_af76_96000040dfb6row4_col3\" class=\"data row4 col3\" >95823</td>\n",
       "            </tr>\n",
       "            <tr>\n",
       "                        <th id=\"T_1aca83fe_87e7_11eb_af76_96000040dfb6level0_row5\" class=\"row_heading level0 row5\" >4302</th>\n",
       "                        <td id=\"T_1aca83fe_87e7_11eb_af76_96000040dfb6row5_col0\" class=\"data row5 col0\" >Germany</td>\n",
       "                        <td id=\"T_1aca83fe_87e7_11eb_af76_96000040dfb6row5_col1\" class=\"data row5 col1\" >891664350</td>\n",
       "                        <td id=\"T_1aca83fe_87e7_11eb_af76_96000040dfb6row5_col2\" class=\"data row5 col2\" >271</td>\n",
       "                        <td id=\"T_1aca83fe_87e7_11eb_af76_96000040dfb6row5_col3\" class=\"data row5 col3\" >28119</td>\n",
       "            </tr>\n",
       "            <tr>\n",
       "                        <th id=\"T_1aca83fe_87e7_11eb_af76_96000040dfb6level0_row6\" class=\"row_heading level0 row6\" >11219</th>\n",
       "                        <td id=\"T_1aca83fe_87e7_11eb_af76_96000040dfb6row6_col0\" class=\"data row6 col0\" >United States of America</td>\n",
       "                        <td id=\"T_1aca83fe_87e7_11eb_af76_96000040dfb6row6_col1\" class=\"data row6 col1\" >891914619</td>\n",
       "                        <td id=\"T_1aca83fe_87e7_11eb_af76_96000040dfb6row6_col2\" class=\"data row6 col2\" >253</td>\n",
       "                        <td id=\"T_1aca83fe_87e7_11eb_af76_96000040dfb6row6_col3\" class=\"data row6 col3\" >35308</td>\n",
       "            </tr>\n",
       "            <tr>\n",
       "                        <th id=\"T_1aca83fe_87e7_11eb_af76_96000040dfb6level0_row7\" class=\"row_heading level0 row7\" >10439</th>\n",
       "                        <td id=\"T_1aca83fe_87e7_11eb_af76_96000040dfb6row7_col0\" class=\"data row7 col0\" >United States of America</td>\n",
       "                        <td id=\"T_1aca83fe_87e7_11eb_af76_96000040dfb6row7_col1\" class=\"data row7 col1\" >891654090</td>\n",
       "                        <td id=\"T_1aca83fe_87e7_11eb_af76_96000040dfb6row7_col2\" class=\"data row7 col2\" >248</td>\n",
       "                        <td id=\"T_1aca83fe_87e7_11eb_af76_96000040dfb6row7_col3\" class=\"data row7 col3\" >38155</td>\n",
       "            </tr>\n",
       "            <tr>\n",
       "                        <th id=\"T_1aca83fe_87e7_11eb_af76_96000040dfb6level0_row8\" class=\"row_heading level0 row8\" >972</th>\n",
       "                        <td id=\"T_1aca83fe_87e7_11eb_af76_96000040dfb6row8_col0\" class=\"data row8 col0\" >Argentina</td>\n",
       "                        <td id=\"T_1aca83fe_87e7_11eb_af76_96000040dfb6row8_col1\" class=\"data row8 col1\" >892150854</td>\n",
       "                        <td id=\"T_1aca83fe_87e7_11eb_af76_96000040dfb6row8_col2\" class=\"data row8 col2\" >204</td>\n",
       "                        <td id=\"T_1aca83fe_87e7_11eb_af76_96000040dfb6row8_col3\" class=\"data row8 col3\" >61789</td>\n",
       "            </tr>\n",
       "            <tr>\n",
       "                        <th id=\"T_1aca83fe_87e7_11eb_af76_96000040dfb6level0_row9\" class=\"row_heading level0 row9\" >4547</th>\n",
       "                        <td id=\"T_1aca83fe_87e7_11eb_af76_96000040dfb6row9_col0\" class=\"data row9 col0\" >Germany</td>\n",
       "                        <td id=\"T_1aca83fe_87e7_11eb_af76_96000040dfb6row9_col1\" class=\"data row9 col1\" >892248561</td>\n",
       "                        <td id=\"T_1aca83fe_87e7_11eb_af76_96000040dfb6row9_col2\" class=\"data row9 col2\" >192</td>\n",
       "                        <td id=\"T_1aca83fe_87e7_11eb_af76_96000040dfb6row9_col3\" class=\"data row9 col3\" >38779</td>\n",
       "            </tr>\n",
       "    </tbody></table>"
      ],
      "text/plain": [
       "<pandas.io.formats.style.Styler at 0x7f8c745e8710>"
      ]
     },
     "execution_count": 104,
     "metadata": {},
     "output_type": "execute_result"
    }
   ],
   "source": [
    "(total_users.groupby(['country','uid'])\n",
    "            .agg({'coins':'sum','total_revenue':'sum'})\n",
    "            .reset_index()\n",
    "            .query('coins >0')\n",
    "            .sort_values('coins',ascending=False)\n",
    "            .head(10)\n",
    "            .style\n",
    "            .format('{:.0f}', subset=['coins'])\n",
    "            .highlight_max(subset='coins',color='#67C5EE'))"
   ]
  },
  {
   "cell_type": "code",
   "execution_count": 77,
   "metadata": {},
   "outputs": [
    {
     "name": "stdout",
     "output_type": "stream",
     "text": [
      "85.3 %\n"
     ]
    }
   ],
   "source": [
    "print(f'{round(99958.0/total_users.coins.sum()*100,1)} %')"
   ]
  },
  {
   "cell_type": "code",
   "execution_count": null,
   "metadata": {},
   "outputs": [],
   "source": []
  }
 ],
 "metadata": {
  "kernelspec": {
   "display_name": "Python 3",
   "language": "python",
   "name": "python3"
  },
  "language_info": {
   "codemirror_mode": {
    "name": "ipython",
    "version": 3
   },
   "file_extension": ".py",
   "mimetype": "text/x-python",
   "name": "python",
   "nbconvert_exporter": "python",
   "pygments_lexer": "ipython3",
   "version": "3.7.3"
  }
 },
 "nbformat": 4,
 "nbformat_minor": 4
}
